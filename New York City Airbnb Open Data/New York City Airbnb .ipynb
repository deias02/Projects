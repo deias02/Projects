{
 "cells": [
  {
   "cell_type": "markdown",
   "id": "0efa7afc-55c1-4f91-8f09-c6a250cfcb7f",
   "metadata": {
    "tags": []
   },
   "source": [
    "<h1 align=\"center\">  AIRBNB </b> </h1><br>\n",
    "![](https://www.insuremyhouse.ie/wp-content/uploads/2019/09/11.png)"
   ]
  },
  {
   "cell_type": "code",
   "execution_count": null,
   "id": "0b439695-2ae6-4f6c-a07b-944405746eb0",
   "metadata": {},
   "outputs": [],
   "source": []
  },
  {
   "cell_type": "markdown",
   "id": "78fb6935-5286-4b15-b46a-3bb4a9a86e9c",
   "metadata": {},
   "source": [
    "## Sobre o conjunto de dados\n",
    "\n",
    "#### Conteúdo\n",
    "\n",
    "Desde 2008 que hóspedes e anfitriões utilizam o Airbnb para expandir as possibilidades de viagem e apresentar uma forma mais única e personalizada de experienciar o mundo. Este conjunto de dados descreve a atividade de listagem e as métricas em NYC, NY para 2019.\n",
    "\n",
    "#### Conteúdo\n",
    "\n",
    "Este ficheiro de dados inclui todas as informações necessárias para saber mais sobre os hosts, a disponibilidade geográfica, as métricas necessárias para fazer previsões e tirar conclusões.\n",
    "\n",
    "#### Agradecimentos\n",
    "\n",
    "Este conjunto de dados público faz parte do Airbnb e a fonte original pode ser encontrada neste site.\n",
    "\n",
    "#### Inspiração\n",
    "\n",
    "O que podemos aprender sobre diferentes anfitriões e áreas?\n",
    "O que podemos aprender com as previsões? (ex: localizações, preços, avaliações, etc.)\n",
    "Quais os hosts mais ocupados e porquê?\n",
    "Existe alguma diferença de tráfego notável entre as diferentes áreas e qual poderá ser a razão para tal?"
   ]
  },
  {
   "cell_type": "markdown",
   "id": "7ac89218-4a77-4cc5-8d2b-5b0b40bcea6f",
   "metadata": {},
   "source": [
    "O conjunto de dados que forneceu contém informações sobre as listagens do Airbnb na cidade de Nova Iorque para 2019, com as seguintes colunas principais:\n",
    "\n",
    "- **id**: identificador único para cada listagem.\n",
    "- **nome**: Nome da listagem.\n",
    "- **host_id**: identificador único do host.\n",
    "- **host_name**: Nome do host.\n",
    "- **neighbourhood_group**: A maior área geográfica (bairro) onde se encontra a listagem, como Brooklyn ou Manhattan.\n",
    "- **neighbourhood**: O bairro mais específico dentro do bairro.\n",
    "- **latitude and longitude**: Coordenadas geográficas da listagem.\n",
    "- **room_type**: Tipo de quarto listado (por exemplo, quarto privado, casa/apartamento inteiro).\n",
    "- **price**: Preço por noite em USD.\n",
    "- **minimum_nights**: Número mínimo de noites necessárias para reserva.\n",
    "- **number_of_reviews**: Número total de avaliações que o anúncio recebeu.\n",
    "- **last_review**: Data da revisão mais recente.\n",
    "- **reviews_per_month**: Número médio de avaliações por mês.\n",
    "- **calculated_host_listings_count**: Número total de listagens do mesmo host.\n",
    "- **availability_365**: Número de dias em que o anúncio está disponível num ano."
   ]
  },
  {
   "cell_type": "markdown",
   "id": "2f409525-551c-4931-9193-f86bb063f05b",
   "metadata": {},
   "source": [
    "Eis algumas ideias que podemos explorar com base neste conjunto de dados:\n",
    "\n",
    "1. **Análise de anfitriões**: Identificar os anfitriões mais ocupados, analisando quais os anfitriões que têm mais listagens e comentários.\n",
    "2. **Preço e localização**: Analise as tendências de preços por bairro ou distrito.\n",
    "3. **Tráfego por área**: Explore o número de avaliações, a disponibilidade e a popularidade da listagem em diferentes bairros.\n",
    "4. **Modelos de previsão**: Crie modelos de previsão para estimar o preço dos anúncios com base em caraterísticas como localização, tipo de quarto, disponibilidade e atividade do anfitrião."
   ]
  },
  {
   "cell_type": "markdown",
   "id": "f4ebfebb-3cdb-4364-aae1-92318d7b9ee8",
   "metadata": {},
   "source": [
    "### Passo 1: Exploração e Limpeza de Dados\n",
    "\n",
    "- **Análise Exploratória de Dados (EDA)**: Vamos examinar o conjunto de dados para entender melhor sua distribuição, possíveis valores ausentes, e identificar outliers.\n",
    "- **Tratamento de dados ausentes**: Como podemos ver, a coluna “last_review” tem valores ausentes. Precisamos decidir como lidar com esses valores e outros que encontrarmos.\n",
    "- **Transformação de variáveis categóricas**: Variáveis como “neighbourhood_group”, “room_type”, e “host_name” precisam ser convertidas para um formato utilizável (por exemplo, codificação numérica) caso sejam utilizadas em modelagens futuras.\n"
   ]
  },
  {
   "cell_type": "markdown",
   "id": "c6febfe5-ddfe-4140-a4ca-0e766e63b4a9",
   "metadata": {},
   "source": [
    "### Passo 2: Análise Exploratória\n",
    "\n",
    "- **Distribuição de Preços**: Qual é a distribuição dos preços das propriedades? Existem áreas com preços muito altos ou baixos?\n",
    "- **Popularidade de Anfitriões**: Quais são os anfitriões mais ativos em termos de número de propriedades e reviews?\n",
    "- **Disponibilidade por Bairro**: Quais bairros têm a maior disponibilidade de dias para reserva?\n"
   ]
  },
  {
   "cell_type": "markdown",
   "id": "7cc38b1a-fb26-4f55-b156-ead095693157",
   "metadata": {},
   "source": [
    "### Passo 3: Modelagem Preditiva\n",
    "\n",
    "- **Objetivo**: Prever o preço das propriedades com base em características como bairro, tipo de quarto, número de reviews, etc.\n",
    "    - **Definir a variável-alvo**: Vamos prever a coluna ‘price’.\n",
    "    - **Seleção de variáveis**: Escolher as colunas que mais afetam o preço (features).\n",
    "- **Divisão de Dados**: Dividimos o dataset em treino e teste.\n",
    "- **Criação de Modelos**:\n",
    "    - Testar diferentes modelos como **Regressão Linear, Árvores de Decisão, Random Forest**, ou até mesmo **Gradient Boosting**.\n",
    "- **Ajuste de Hiperparâmetros**: Otimizar os modelos através da validação cruzada e ajuste de hiperparâmetros.\n",
    "- **Avaliação do Modelo**: Avaliar o desempenho dos modelos usando métricas como RMSE, R², etc.\n"
   ]
  },
  {
   "cell_type": "markdown",
   "id": "6acdcacf-6aad-4e4b-a9b5-8a378a9ab93d",
   "metadata": {},
   "source": [
    "### Passo 4: Insights e Conclusões\n",
    "\n",
    "- Com base nos modelos e na análise exploratória, podemos responder perguntas como:\n",
    "- O que determina o preço de uma propriedade?\n",
    "- Quais bairros são mais populares ou têm preços mais altos?\n",
    "- Quais anfitriões têm mais tráfego e o que os diferencia?"
   ]
  },
  {
   "cell_type": "markdown",
   "id": "c91cdd60-4560-4c86-917e-b1060790b79b",
   "metadata": {},
   "source": [
    "### Passo 5: Visualização de Dados\n",
    "\n",
    "- Criar gráficos para apoiar os insights gerados:\n",
    "- Distribuição de preços por bairro.\n",
    "- Correlação entre disponibilidade e reviews.\n",
    "- Mapas de calor para mostrar a densidade de listagens por localização.\n"
   ]
  },
  {
   "cell_type": "markdown",
   "id": "a7c99923-1a01-4f3e-9dcd-e618f16f7e61",
   "metadata": {},
   "source": [
    "### Importing Libraries"
   ]
  },
  {
   "cell_type": "code",
   "execution_count": 11,
   "id": "ba6d29d7-7064-4686-ac3d-605e27eb0206",
   "metadata": {
    "tags": []
   },
   "outputs": [
    {
     "name": "stdout",
     "output_type": "stream",
     "text": [
      "CPU times: user 2 μs, sys: 0 ns, total: 2 μs\n",
      "Wall time: 6.2 μs\n"
     ]
    }
   ],
   "source": [
    "# Import packages\n",
    "\n",
    "# For data manipulation\n",
    "import numpy as np  # Biblioteca para arrays e funções matemáticas\n",
    "import pandas as pd  # Biblioteca para manipulação de dados estruturados (dataframes)\n",
    "\n",
    "# For data visualization\n",
    "import matplotlib.pyplot as plt  # Biblioteca para visualização de gráficos\n",
    "import seaborn as sns  # Biblioteca para visualização de dados com gráficos estatísticos\n",
    "\n",
    "# For displaying all of the columns in dataframes\n",
    "pd.set_option('display.max_columns', None)  # Para exibir todas as colunas dos dataframes\n",
    "\n",
    "# For data modeling\n",
    "from xgboost import XGBClassifier  # Classificador XGBoost\n",
    "from xgboost import XGBRegressor  # Regressor XGBoost\n",
    "from xgboost import plot_importance  # Função para plotar a importância das variáveis no XGBoost\n",
    "\n",
    "from sklearn.linear_model import LogisticRegression  # Regressão logística para modelagem preditiva\n",
    "from sklearn.tree import DecisionTreeClassifier  # Modelo de árvore de decisão\n",
    "from sklearn.ensemble import RandomForestClassifier  # Classificador de Random Forest\n",
    "\n",
    "# For metrics and helpful functions\n",
    "from sklearn.model_selection import GridSearchCV, train_test_split  # Para pesquisa de parâmetros e divisão de dados\n",
    "from sklearn.metrics import accuracy_score, precision_score, recall_score, f1_score  # Métricas de avaliação de modelos\n",
    "from sklearn.metrics import confusion_matrix, ConfusionMatrixDisplay  # Matriz de confusão e visualização\n",
    "from sklearn.metrics import classification_report  # Relatório de classificação com várias métricas\n",
    "from sklearn.metrics import roc_auc_score, roc_curve  # AUC-ROC para avaliação de desempenho de classificadores\n",
    "from sklearn.tree import plot_tree  # Para visualização de árvores de decisão\n",
    "\n",
    "# For saving models\n",
    "import pickle  # Biblioteca para salvar e carregar modelos treinados\n",
    "\n",
    "# Adding KNeighborsClassifier and SVC\n",
    "from sklearn.neighbors import KNeighborsClassifier  # Classificador KNN (K-Nearest Neighbors) para classificação baseada na proximidade\n",
    "from sklearn.svm import SVC  # Suport Vector Classifier (SVC) para classificação com vetores de suporte\n",
    "\n",
    "\n",
    "# Iniciar a medição do tempo\n",
    "import time\n",
    "\n",
    "from IPython import get_ipython\n",
    "\n",
    "# Ativar comandos mágicos (se necessário)\n",
    "get_ipython().run_line_magic('time', '')\n",
    "\n"
   ]
  },
  {
   "cell_type": "markdown",
   "id": "aa56fba3-75b5-40a9-a264-37b1137435ca",
   "metadata": {},
   "source": [
    "### Loading Dataset"
   ]
  },
  {
   "cell_type": "code",
   "execution_count": 13,
   "id": "e53576f0-d14a-4d7f-a1d3-6a2964165a7c",
   "metadata": {
    "tags": []
   },
   "outputs": [
    {
     "data": {
      "text/html": [
       "<div>\n",
       "<style scoped>\n",
       "    .dataframe tbody tr th:only-of-type {\n",
       "        vertical-align: middle;\n",
       "    }\n",
       "\n",
       "    .dataframe tbody tr th {\n",
       "        vertical-align: top;\n",
       "    }\n",
       "\n",
       "    .dataframe thead th {\n",
       "        text-align: right;\n",
       "    }\n",
       "</style>\n",
       "<table border=\"1\" class=\"dataframe\">\n",
       "  <thead>\n",
       "    <tr style=\"text-align: right;\">\n",
       "      <th></th>\n",
       "      <th>id</th>\n",
       "      <th>name</th>\n",
       "      <th>host_id</th>\n",
       "      <th>host_name</th>\n",
       "      <th>neighbourhood_group</th>\n",
       "      <th>neighbourhood</th>\n",
       "      <th>latitude</th>\n",
       "      <th>longitude</th>\n",
       "      <th>room_type</th>\n",
       "      <th>price</th>\n",
       "      <th>minimum_nights</th>\n",
       "      <th>number_of_reviews</th>\n",
       "      <th>last_review</th>\n",
       "      <th>reviews_per_month</th>\n",
       "      <th>calculated_host_listings_count</th>\n",
       "      <th>availability_365</th>\n",
       "    </tr>\n",
       "  </thead>\n",
       "  <tbody>\n",
       "    <tr>\n",
       "      <th>0</th>\n",
       "      <td>2539</td>\n",
       "      <td>Clean &amp; quiet apt home by the park</td>\n",
       "      <td>2787</td>\n",
       "      <td>John</td>\n",
       "      <td>Brooklyn</td>\n",
       "      <td>Kensington</td>\n",
       "      <td>40.64749</td>\n",
       "      <td>-73.97237</td>\n",
       "      <td>Private room</td>\n",
       "      <td>149</td>\n",
       "      <td>1</td>\n",
       "      <td>9</td>\n",
       "      <td>2018-10-19</td>\n",
       "      <td>0.21</td>\n",
       "      <td>6</td>\n",
       "      <td>365</td>\n",
       "    </tr>\n",
       "    <tr>\n",
       "      <th>1</th>\n",
       "      <td>2595</td>\n",
       "      <td>Skylit Midtown Castle</td>\n",
       "      <td>2845</td>\n",
       "      <td>Jennifer</td>\n",
       "      <td>Manhattan</td>\n",
       "      <td>Midtown</td>\n",
       "      <td>40.75362</td>\n",
       "      <td>-73.98377</td>\n",
       "      <td>Entire home/apt</td>\n",
       "      <td>225</td>\n",
       "      <td>1</td>\n",
       "      <td>45</td>\n",
       "      <td>2019-05-21</td>\n",
       "      <td>0.38</td>\n",
       "      <td>2</td>\n",
       "      <td>355</td>\n",
       "    </tr>\n",
       "    <tr>\n",
       "      <th>2</th>\n",
       "      <td>3647</td>\n",
       "      <td>THE VILLAGE OF HARLEM....NEW YORK !</td>\n",
       "      <td>4632</td>\n",
       "      <td>Elisabeth</td>\n",
       "      <td>Manhattan</td>\n",
       "      <td>Harlem</td>\n",
       "      <td>40.80902</td>\n",
       "      <td>-73.94190</td>\n",
       "      <td>Private room</td>\n",
       "      <td>150</td>\n",
       "      <td>3</td>\n",
       "      <td>0</td>\n",
       "      <td>NaN</td>\n",
       "      <td>NaN</td>\n",
       "      <td>1</td>\n",
       "      <td>365</td>\n",
       "    </tr>\n",
       "    <tr>\n",
       "      <th>3</th>\n",
       "      <td>3831</td>\n",
       "      <td>Cozy Entire Floor of Brownstone</td>\n",
       "      <td>4869</td>\n",
       "      <td>LisaRoxanne</td>\n",
       "      <td>Brooklyn</td>\n",
       "      <td>Clinton Hill</td>\n",
       "      <td>40.68514</td>\n",
       "      <td>-73.95976</td>\n",
       "      <td>Entire home/apt</td>\n",
       "      <td>89</td>\n",
       "      <td>1</td>\n",
       "      <td>270</td>\n",
       "      <td>2019-07-05</td>\n",
       "      <td>4.64</td>\n",
       "      <td>1</td>\n",
       "      <td>194</td>\n",
       "    </tr>\n",
       "    <tr>\n",
       "      <th>4</th>\n",
       "      <td>5022</td>\n",
       "      <td>Entire Apt: Spacious Studio/Loft by central park</td>\n",
       "      <td>7192</td>\n",
       "      <td>Laura</td>\n",
       "      <td>Manhattan</td>\n",
       "      <td>East Harlem</td>\n",
       "      <td>40.79851</td>\n",
       "      <td>-73.94399</td>\n",
       "      <td>Entire home/apt</td>\n",
       "      <td>80</td>\n",
       "      <td>10</td>\n",
       "      <td>9</td>\n",
       "      <td>2018-11-19</td>\n",
       "      <td>0.10</td>\n",
       "      <td>1</td>\n",
       "      <td>0</td>\n",
       "    </tr>\n",
       "  </tbody>\n",
       "</table>\n",
       "</div>"
      ],
      "text/plain": [
       "     id                                              name  host_id  \\\n",
       "0  2539                Clean & quiet apt home by the park     2787   \n",
       "1  2595                             Skylit Midtown Castle     2845   \n",
       "2  3647               THE VILLAGE OF HARLEM....NEW YORK !     4632   \n",
       "3  3831                   Cozy Entire Floor of Brownstone     4869   \n",
       "4  5022  Entire Apt: Spacious Studio/Loft by central park     7192   \n",
       "\n",
       "     host_name neighbourhood_group neighbourhood  latitude  longitude  \\\n",
       "0         John            Brooklyn    Kensington  40.64749  -73.97237   \n",
       "1     Jennifer           Manhattan       Midtown  40.75362  -73.98377   \n",
       "2    Elisabeth           Manhattan        Harlem  40.80902  -73.94190   \n",
       "3  LisaRoxanne            Brooklyn  Clinton Hill  40.68514  -73.95976   \n",
       "4        Laura           Manhattan   East Harlem  40.79851  -73.94399   \n",
       "\n",
       "         room_type  price  minimum_nights  number_of_reviews last_review  \\\n",
       "0     Private room    149               1                  9  2018-10-19   \n",
       "1  Entire home/apt    225               1                 45  2019-05-21   \n",
       "2     Private room    150               3                  0         NaN   \n",
       "3  Entire home/apt     89               1                270  2019-07-05   \n",
       "4  Entire home/apt     80              10                  9  2018-11-19   \n",
       "\n",
       "   reviews_per_month  calculated_host_listings_count  availability_365  \n",
       "0               0.21                               6               365  \n",
       "1               0.38                               2               355  \n",
       "2                NaN                               1               365  \n",
       "3               4.64                               1               194  \n",
       "4               0.10                               1                 0  "
      ]
     },
     "execution_count": 13,
     "metadata": {},
     "output_type": "execute_result"
    }
   ],
   "source": [
    "airbnb = pd.read_csv('AB_NYC_2019.csv')\n",
    "airbnb.head()"
   ]
  },
  {
   "cell_type": "code",
   "execution_count": 14,
   "id": "a0395be6-110c-4767-864e-320d3f6a7129",
   "metadata": {
    "tags": []
   },
   "outputs": [
    {
     "data": {
      "text/plain": [
       "(48895, 16)"
      ]
     },
     "execution_count": 14,
     "metadata": {},
     "output_type": "execute_result"
    }
   ],
   "source": [
    "airbnb.shape"
   ]
  },
  {
   "cell_type": "code",
   "execution_count": 15,
   "id": "4ca69dde-c54d-4896-b2c2-66d9f8d5e1b5",
   "metadata": {
    "tags": []
   },
   "outputs": [
    {
     "name": "stdout",
     "output_type": "stream",
     "text": [
      "<class 'pandas.core.frame.DataFrame'>\n",
      "RangeIndex: 48895 entries, 0 to 48894\n",
      "Data columns (total 16 columns):\n",
      " #   Column                          Non-Null Count  Dtype  \n",
      "---  ------                          --------------  -----  \n",
      " 0   id                              48895 non-null  int64  \n",
      " 1   name                            48879 non-null  object \n",
      " 2   host_id                         48895 non-null  int64  \n",
      " 3   host_name                       48874 non-null  object \n",
      " 4   neighbourhood_group             48895 non-null  object \n",
      " 5   neighbourhood                   48895 non-null  object \n",
      " 6   latitude                        48895 non-null  float64\n",
      " 7   longitude                       48895 non-null  float64\n",
      " 8   room_type                       48895 non-null  object \n",
      " 9   price                           48895 non-null  int64  \n",
      " 10  minimum_nights                  48895 non-null  int64  \n",
      " 11  number_of_reviews               48895 non-null  int64  \n",
      " 12  last_review                     38843 non-null  object \n",
      " 13  reviews_per_month               38843 non-null  float64\n",
      " 14  calculated_host_listings_count  48895 non-null  int64  \n",
      " 15  availability_365                48895 non-null  int64  \n",
      "dtypes: float64(3), int64(7), object(6)\n",
      "memory usage: 6.0+ MB\n"
     ]
    }
   ],
   "source": [
    "airbnb.info()"
   ]
  },
  {
   "cell_type": "markdown",
   "id": "402f53ae-3069-4b53-8a05-80caa3eb334c",
   "metadata": {},
   "source": [
    "### duplicated values"
   ]
  },
  {
   "cell_type": "code",
   "execution_count": 17,
   "id": "41b1204f-7aa3-49d9-a317-264eeb409b79",
   "metadata": {
    "tags": []
   },
   "outputs": [
    {
     "data": {
      "text/plain": [
       "0"
      ]
     },
     "execution_count": 17,
     "metadata": {},
     "output_type": "execute_result"
    }
   ],
   "source": [
    "airbnb.duplicated().sum()"
   ]
  },
  {
   "cell_type": "markdown",
   "id": "2834a7a7-809d-408d-b13e-7d812c4a9eb8",
   "metadata": {},
   "source": [
    "### missing value"
   ]
  },
  {
   "cell_type": "code",
   "execution_count": 19,
   "id": "7b3aed25-c23d-441c-9714-eb15c4d6b001",
   "metadata": {
    "tags": []
   },
   "outputs": [
    {
     "data": {
      "text/plain": [
       "id                                    0\n",
       "name                                 16\n",
       "host_id                               0\n",
       "host_name                            21\n",
       "neighbourhood_group                   0\n",
       "neighbourhood                         0\n",
       "latitude                              0\n",
       "longitude                             0\n",
       "room_type                             0\n",
       "price                                 0\n",
       "minimum_nights                        0\n",
       "number_of_reviews                     0\n",
       "last_review                       10052\n",
       "reviews_per_month                 10052\n",
       "calculated_host_listings_count        0\n",
       "availability_365                      0\n",
       "dtype: int64"
      ]
     },
     "execution_count": 19,
     "metadata": {},
     "output_type": "execute_result"
    }
   ],
   "source": [
    "airbnb.isnull().sum()"
   ]
  },
  {
   "cell_type": "markdown",
   "id": "3c367bb9-d449-46ca-92d6-fd5d100a4af8",
   "metadata": {},
   "source": [
    "#### Colunas com valores ausentes:\n",
    "- **name**: 16 valores ausentes.\n",
    "- **host_name**: 21 valores ausentes.\n",
    "- **last_review**: 10.052 valores ausentes.\n",
    "- **reviews_per_month**: 10.052 valores ausentes.\n",
    "\n",
    "As colunas **“last_review”** e **“reviews_per_month”** possuem uma quantidade significativa de valores ausentes, que provavelmente se devem a listagens sem avaliações. Podemos decidir como tratar esses valores conforme avançamos."
   ]
  },
  {
   "cell_type": "code",
   "execution_count": 21,
   "id": "fe134e12-b1e4-4701-b53b-146fd1313d3e",
   "metadata": {
    "tags": []
   },
   "outputs": [
    {
     "name": "stderr",
     "output_type": "stream",
     "text": [
      "/var/folders/mp/_1mc66sj15dcx84w85zjp_fr0000gn/T/ipykernel_23345/3435159927.py:2: FutureWarning: A value is trying to be set on a copy of a DataFrame or Series through chained assignment using an inplace method.\n",
      "The behavior will change in pandas 3.0. This inplace method will never work because the intermediate object on which we are setting values always behaves as a copy.\n",
      "\n",
      "For example, when doing 'df[col].method(value, inplace=True)', try using 'df.method({col: value}, inplace=True)' or df[col] = df[col].method(value) instead, to perform the operation inplace on the original object.\n",
      "\n",
      "\n",
      "  airbnb['reviews_per_month'].fillna(0, inplace=True)\n",
      "/var/folders/mp/_1mc66sj15dcx84w85zjp_fr0000gn/T/ipykernel_23345/3435159927.py:5: FutureWarning: A value is trying to be set on a copy of a DataFrame or Series through chained assignment using an inplace method.\n",
      "The behavior will change in pandas 3.0. This inplace method will never work because the intermediate object on which we are setting values always behaves as a copy.\n",
      "\n",
      "For example, when doing 'df[col].method(value, inplace=True)', try using 'df.method({col: value}, inplace=True)' or df[col] = df[col].method(value) instead, to perform the operation inplace on the original object.\n",
      "\n",
      "\n",
      "  airbnb['last_review'].fillna('Never', inplace=True)\n"
     ]
    }
   ],
   "source": [
    "# Substituir valores ausentes na coluna 'reviews_per_month' por 0\n",
    "airbnb['reviews_per_month'].fillna(0, inplace=True)\n",
    "\n",
    "# Substituir valores ausentes na coluna 'last_review' por 'Never'\n",
    "airbnb['last_review'].fillna('Never', inplace=True)"
   ]
  },
  {
   "cell_type": "code",
   "execution_count": 62,
   "id": "1e24d15d-a649-479f-8a90-e50555c82077",
   "metadata": {},
   "outputs": [
    {
     "data": {
      "text/html": [
       "<div>\n",
       "<style scoped>\n",
       "    .dataframe tbody tr th:only-of-type {\n",
       "        vertical-align: middle;\n",
       "    }\n",
       "\n",
       "    .dataframe tbody tr th {\n",
       "        vertical-align: top;\n",
       "    }\n",
       "\n",
       "    .dataframe thead th {\n",
       "        text-align: right;\n",
       "    }\n",
       "</style>\n",
       "<table border=\"1\" class=\"dataframe\">\n",
       "  <thead>\n",
       "    <tr style=\"text-align: right;\">\n",
       "      <th></th>\n",
       "      <th>id</th>\n",
       "      <th>host_id</th>\n",
       "      <th>latitude</th>\n",
       "      <th>longitude</th>\n",
       "      <th>price</th>\n",
       "      <th>minimum_nights</th>\n",
       "      <th>number_of_reviews</th>\n",
       "      <th>reviews_per_month</th>\n",
       "      <th>calculated_host_listings_count</th>\n",
       "      <th>availability_365</th>\n",
       "    </tr>\n",
       "  </thead>\n",
       "  <tbody>\n",
       "    <tr>\n",
       "      <th>count</th>\n",
       "      <td>4.889500e+04</td>\n",
       "      <td>4.889500e+04</td>\n",
       "      <td>48895.000000</td>\n",
       "      <td>48895.000000</td>\n",
       "      <td>48895.000000</td>\n",
       "      <td>48895.000000</td>\n",
       "      <td>48895.000000</td>\n",
       "      <td>48895.000000</td>\n",
       "      <td>48895.000000</td>\n",
       "      <td>48895.000000</td>\n",
       "    </tr>\n",
       "    <tr>\n",
       "      <th>mean</th>\n",
       "      <td>1.901714e+07</td>\n",
       "      <td>6.762001e+07</td>\n",
       "      <td>40.728949</td>\n",
       "      <td>-73.952170</td>\n",
       "      <td>152.720687</td>\n",
       "      <td>7.029962</td>\n",
       "      <td>23.274466</td>\n",
       "      <td>1.090910</td>\n",
       "      <td>7.143982</td>\n",
       "      <td>112.781327</td>\n",
       "    </tr>\n",
       "    <tr>\n",
       "      <th>std</th>\n",
       "      <td>1.098311e+07</td>\n",
       "      <td>7.861097e+07</td>\n",
       "      <td>0.054530</td>\n",
       "      <td>0.046157</td>\n",
       "      <td>240.154170</td>\n",
       "      <td>20.510550</td>\n",
       "      <td>44.550582</td>\n",
       "      <td>1.597283</td>\n",
       "      <td>32.952519</td>\n",
       "      <td>131.622289</td>\n",
       "    </tr>\n",
       "    <tr>\n",
       "      <th>min</th>\n",
       "      <td>2.539000e+03</td>\n",
       "      <td>2.438000e+03</td>\n",
       "      <td>40.499790</td>\n",
       "      <td>-74.244420</td>\n",
       "      <td>0.000000</td>\n",
       "      <td>1.000000</td>\n",
       "      <td>0.000000</td>\n",
       "      <td>0.000000</td>\n",
       "      <td>1.000000</td>\n",
       "      <td>0.000000</td>\n",
       "    </tr>\n",
       "    <tr>\n",
       "      <th>25%</th>\n",
       "      <td>9.471945e+06</td>\n",
       "      <td>7.822033e+06</td>\n",
       "      <td>40.690100</td>\n",
       "      <td>-73.983070</td>\n",
       "      <td>69.000000</td>\n",
       "      <td>1.000000</td>\n",
       "      <td>1.000000</td>\n",
       "      <td>0.040000</td>\n",
       "      <td>1.000000</td>\n",
       "      <td>0.000000</td>\n",
       "    </tr>\n",
       "    <tr>\n",
       "      <th>50%</th>\n",
       "      <td>1.967728e+07</td>\n",
       "      <td>3.079382e+07</td>\n",
       "      <td>40.723070</td>\n",
       "      <td>-73.955680</td>\n",
       "      <td>106.000000</td>\n",
       "      <td>3.000000</td>\n",
       "      <td>5.000000</td>\n",
       "      <td>0.370000</td>\n",
       "      <td>1.000000</td>\n",
       "      <td>45.000000</td>\n",
       "    </tr>\n",
       "    <tr>\n",
       "      <th>75%</th>\n",
       "      <td>2.915218e+07</td>\n",
       "      <td>1.074344e+08</td>\n",
       "      <td>40.763115</td>\n",
       "      <td>-73.936275</td>\n",
       "      <td>175.000000</td>\n",
       "      <td>5.000000</td>\n",
       "      <td>24.000000</td>\n",
       "      <td>1.580000</td>\n",
       "      <td>2.000000</td>\n",
       "      <td>227.000000</td>\n",
       "    </tr>\n",
       "    <tr>\n",
       "      <th>max</th>\n",
       "      <td>3.648724e+07</td>\n",
       "      <td>2.743213e+08</td>\n",
       "      <td>40.913060</td>\n",
       "      <td>-73.712990</td>\n",
       "      <td>10000.000000</td>\n",
       "      <td>1250.000000</td>\n",
       "      <td>629.000000</td>\n",
       "      <td>58.500000</td>\n",
       "      <td>327.000000</td>\n",
       "      <td>365.000000</td>\n",
       "    </tr>\n",
       "  </tbody>\n",
       "</table>\n",
       "</div>"
      ],
      "text/plain": [
       "                 id       host_id      latitude     longitude         price  \\\n",
       "count  4.889500e+04  4.889500e+04  48895.000000  48895.000000  48895.000000   \n",
       "mean   1.901714e+07  6.762001e+07     40.728949    -73.952170    152.720687   \n",
       "std    1.098311e+07  7.861097e+07      0.054530      0.046157    240.154170   \n",
       "min    2.539000e+03  2.438000e+03     40.499790    -74.244420      0.000000   \n",
       "25%    9.471945e+06  7.822033e+06     40.690100    -73.983070     69.000000   \n",
       "50%    1.967728e+07  3.079382e+07     40.723070    -73.955680    106.000000   \n",
       "75%    2.915218e+07  1.074344e+08     40.763115    -73.936275    175.000000   \n",
       "max    3.648724e+07  2.743213e+08     40.913060    -73.712990  10000.000000   \n",
       "\n",
       "       minimum_nights  number_of_reviews  reviews_per_month  \\\n",
       "count    48895.000000       48895.000000       48895.000000   \n",
       "mean         7.029962          23.274466           1.090910   \n",
       "std         20.510550          44.550582           1.597283   \n",
       "min          1.000000           0.000000           0.000000   \n",
       "25%          1.000000           1.000000           0.040000   \n",
       "50%          3.000000           5.000000           0.370000   \n",
       "75%          5.000000          24.000000           1.580000   \n",
       "max       1250.000000         629.000000          58.500000   \n",
       "\n",
       "       calculated_host_listings_count  availability_365  \n",
       "count                    48895.000000      48895.000000  \n",
       "mean                         7.143982        112.781327  \n",
       "std                         32.952519        131.622289  \n",
       "min                          1.000000          0.000000  \n",
       "25%                          1.000000          0.000000  \n",
       "50%                          1.000000         45.000000  \n",
       "75%                          2.000000        227.000000  \n",
       "max                        327.000000        365.000000  "
      ]
     },
     "execution_count": 62,
     "metadata": {},
     "output_type": "execute_result"
    }
   ],
   "source": [
    "airbnb.describe()"
   ]
  },
  {
   "cell_type": "markdown",
   "id": "7c0afb70-44ca-4e53-baa6-64791d29d479",
   "metadata": {},
   "source": [
    "# 3. Análise Exploratória\n",
    "\n",
    "><i> Em <b>estatística</b>, a <b>análise exploratória de dados</b> é uma abordagem para a análise de conjuntos de dados de forma a resumir as suas principais características, muitas vezes com métodos visuais. </i>"
   ]
  },
  {
   "cell_type": "markdown",
   "id": "10b7f253-e6e8-45b7-94c7-6ed494557a93",
   "metadata": {},
   "source": [
    "#### Drop unnecessary columns"
   ]
  },
  {
   "cell_type": "code",
   "execution_count": 24,
   "id": "ada48ce5-5e39-4bd8-a6f1-e601684228cb",
   "metadata": {
    "tags": []
   },
   "outputs": [
    {
     "name": "stdout",
     "output_type": "stream",
     "text": [
      "Colunas categóricas:\n",
      "Index(['name', 'host_name', 'neighbourhood_group', 'neighbourhood',\n",
      "       'room_type', 'last_review'],\n",
      "      dtype='object')\n",
      "\n",
      "Colunas numéricas:\n",
      "Index(['id', 'host_id', 'latitude', 'longitude', 'price', 'minimum_nights',\n",
      "       'number_of_reviews', 'reviews_per_month',\n",
      "       'calculated_host_listings_count', 'availability_365'],\n",
      "      dtype='object')\n"
     ]
    }
   ],
   "source": [
    "# Seleciona as colunas categóricas\n",
    "categorical_cols = airbnb.select_dtypes(include=['object', 'category']).columns\n",
    "print(\"Colunas categóricas:\")\n",
    "print(categorical_cols)\n",
    "\n",
    "# Seleciona as colunas numéricas\n",
    "numerical_cols = airbnb.select_dtypes(include=['number']).columns\n",
    "print(\"\\nColunas numéricas:\")\n",
    "print(numerical_cols)"
   ]
  },
  {
   "cell_type": "code",
   "execution_count": 25,
   "id": "7baa4dfb-d47a-4c53-808e-f45c393f9e7f",
   "metadata": {
    "tags": []
   },
   "outputs": [
    {
     "data": {
      "image/png": "[encoded data removed]",
      "text/plain": [
       "<Figure size 1500x2000 with 10 Axes>"
      ]
     },
     "metadata": {},
     "output_type": "display_data"
    }
   ],
   "source": [
    "# Supondo que 'airbnb' seja o DataFrame e 'num_columns' seja a lista de colunas numéricas\n",
    "num_columns = airbnb.select_dtypes(include='number').columns\n",
    "\n",
    "# Definindo o número de linhas e colunas de acordo com a quantidade de gráficos\n",
    "n_cols = 3\n",
    "n_rows = (len(num_columns) + n_cols - 1) // n_cols  # Calcula o número de linhas necessário\n",
    "\n",
    "plt.figure(figsize=(15, 5 * n_rows))\n",
    "for i, col in enumerate(num_columns, 1):\n",
    "    plt.subplot(n_rows, n_cols, i)\n",
    "    sns.boxplot(x=airbnb[col])\n",
    "    plt.title(f'Boxplot de {col}')\n",
    "plt.tight_layout()\n",
    "plt.savefig(f'Boxplot de {col}')\n",
    "plt.show()"
   ]
  },
  {
   "cell_type": "markdown",
   "id": "b0accca7-bc0f-426a-a052-d6d7edced880",
   "metadata": {},
   "source": [
    "#### 4. Análise da Distribuição de Preços"
   ]
  },
  {
   "cell_type": "code",
   "execution_count": 27,
   "id": "b3c3ac49-3147-4fa3-978f-db37a6448891",
   "metadata": {
    "tags": []
   },
   "outputs": [
    {
     "data": {
      "image/png": "[encoded data removed]",
      "text/plain": [
       "<Figure size 1000x600 with 1 Axes>"
      ]
     },
     "metadata": {},
     "output_type": "display_data"
    }
   ],
   "source": [
    "# Analisar a distribuição dos preços para identificar outliers\n",
    "plt.figure(figsize=(10,6))\n",
    "airbnb['price'].plot(kind='box', vert=False)\n",
    "plt.title('Distribuição de Preços das Propriedades')\n",
    "plt.xlabel('Preço (USD)')\n",
    "plt.savefig('Distribuição de Preços das Propriedades.png')\n",
    "plt.show()"
   ]
  },
  {
   "cell_type": "markdown",
   "id": "8aa60cd8-29be-4c85-8a11-d9631ba92aa8",
   "metadata": {},
   "source": [
    "A distribuição de preços das propriedades apresenta alguns outliers, com uma grande maioria dos preços concentrada em uma faixa mais baixa e algumas listagens com preços significativamente altos."
   ]
  },
  {
   "cell_type": "markdown",
   "id": "b00d8c2e-fc95-4676-b146-cb3c426bcedc",
   "metadata": {},
   "source": [
    "#### 1. Remoção de Outliers (Preços acima de $1000)"
   ]
  },
  {
   "cell_type": "code",
   "execution_count": 30,
   "id": "0e4f8e10-f02d-4016-b865-ff54998ed242",
   "metadata": {
    "tags": []
   },
   "outputs": [
    {
     "data": {
      "image/png": "[encoded data removed]",
      "text/plain": [
       "<Figure size 1000x600 with 1 Axes>"
      ]
     },
     "metadata": {},
     "output_type": "display_data"
    },
    {
     "name": "stdout",
     "output_type": "stream",
     "text": [
      "count    48656.000000\n",
      "mean       141.279842\n",
      "std        116.737468\n",
      "min          0.000000\n",
      "25%         69.000000\n",
      "50%        105.000000\n",
      "75%        175.000000\n",
      "max       1000.000000\n",
      "Name: price, dtype: float64\n"
     ]
    }
   ],
   "source": [
    "# Remoção de outliers (preços acima de $1000)\n",
    "filtered_airbnb = airbnb[airbnb['price'] <= 1000]\n",
    "\n",
    "# Visualizar a nova distribuição sem outliers\n",
    "plt.figure(figsize=(10,6))\n",
    "filtered_airbnb['price'].plot(kind='box', vert=False)\n",
    "plt.title('Distribuição de Preços das Propriedades (Sem Outliers)')\n",
    "plt.xlabel('Preço (USD)')\n",
    "plt.savefig('Distribuição de Preços das Propriedades (Sem Outliers).png')\n",
    "plt.show()\n",
    "\n",
    "# Verificar estatísticas básicas para confirmar a remoção dos outliers\n",
    "print(filtered_airbnb['price'].describe())"
   ]
  },
  {
   "cell_type": "markdown",
   "id": "a9193b77-bd5d-4196-8153-db5dad528f1c",
   "metadata": {},
   "source": [
    "#### 2. Análise de Preços por Bairro (neighbourhood_group)"
   ]
  },
  {
   "cell_type": "code",
   "execution_count": 32,
   "id": "83eaffb9-2313-4de3-a87d-0a195ff422a3",
   "metadata": {
    "tags": []
   },
   "outputs": [
    {
     "ename": "NameError",
     "evalue": "name 'airbnb1' is not defined",
     "output_type": "error",
     "traceback": [
      "\u001b[0;31m---------------------------------------------------------------------------\u001b[0m",
      "\u001b[0;31mNameError\u001b[0m                                 Traceback (most recent call last)",
      "Cell \u001b[0;32mIn[32], line 2\u001b[0m\n\u001b[1;32m      1\u001b[0m \u001b[38;5;66;03m# Supondo que 'airbnb1' já está carregado\u001b[39;00m\n\u001b[0;32m----> 2\u001b[0m price_by_neighbourhood_group \u001b[38;5;241m=\u001b[39m \u001b[43mairbnb1\u001b[49m\u001b[38;5;241m.\u001b[39mgroupby(\u001b[38;5;124m'\u001b[39m\u001b[38;5;124mneighbourhood_group\u001b[39m\u001b[38;5;124m'\u001b[39m)[\u001b[38;5;124m'\u001b[39m\u001b[38;5;124mprice\u001b[39m\u001b[38;5;124m'\u001b[39m]\u001b[38;5;241m.\u001b[39mmean()\u001b[38;5;241m.\u001b[39msort_values(ascending\u001b[38;5;241m=\u001b[39m\u001b[38;5;28;01mFalse\u001b[39;00m)\n\u001b[1;32m      4\u001b[0m \u001b[38;5;66;03m# Definir um mapeamento fixo de cores para cada bairro\u001b[39;00m\n\u001b[1;32m      5\u001b[0m neighbourhood_colors \u001b[38;5;241m=\u001b[39m {\n\u001b[1;32m      6\u001b[0m     \u001b[38;5;124m'\u001b[39m\u001b[38;5;124mManhattan\u001b[39m\u001b[38;5;124m'\u001b[39m: \u001b[38;5;124m'\u001b[39m\u001b[38;5;124mblue\u001b[39m\u001b[38;5;124m'\u001b[39m,\n\u001b[1;32m      7\u001b[0m     \u001b[38;5;124m'\u001b[39m\u001b[38;5;124mBrooklyn\u001b[39m\u001b[38;5;124m'\u001b[39m: \u001b[38;5;124m'\u001b[39m\u001b[38;5;124mgreen\u001b[39m\u001b[38;5;124m'\u001b[39m,\n\u001b[0;32m   (...)\u001b[0m\n\u001b[1;32m     10\u001b[0m     \u001b[38;5;124m'\u001b[39m\u001b[38;5;124mStaten Island\u001b[39m\u001b[38;5;124m'\u001b[39m: \u001b[38;5;124m'\u001b[39m\u001b[38;5;124mpurple\u001b[39m\u001b[38;5;124m'\u001b[39m\n\u001b[1;32m     11\u001b[0m }\n",
      "\u001b[0;31mNameError\u001b[0m: name 'airbnb1' is not defined"
     ]
    }
   ],
   "source": [
    "# Supondo que 'airbnb1' já está carregado\n",
    "price_by_neighbourhood_group = airbnb1.groupby('neighbourhood_group')['price'].mean().sort_values(ascending=False)\n",
    "\n",
    "# Definir um mapeamento fixo de cores para cada bairro\n",
    "neighbourhood_colors = {\n",
    "    'Manhattan': 'blue',\n",
    "    'Brooklyn': 'green',\n",
    "    'Queens': 'orange',\n",
    "    'Bronx': 'red',\n",
    "    'Staten Island': 'purple'\n",
    "}\n",
    "\n",
    "# Aplicar as cores fixas na ordem correta\n",
    "colors = [neighbourhood_colors[neighbourhood] for neighbourhood in price_by_neighbourhood_group.index]\n",
    "\n",
    "# Exibir gráfico de barras\n",
    "plt.figure(figsize=(10, 8))\n",
    "price_by_neighbourhood_group.plot(kind='bar', color=colors)\n",
    "plt.title('Média de Preços por Bairro (neighbourhood_group)')\n",
    "plt.ylabel('Preço Médio (USD)')\n",
    "plt.xlabel('Bairro')\n",
    "plt.xticks(rotation=45)\n",
    "plt.savefig('Media_de_Precos_por_Bairro_neighbourhood_group.png')\n",
    "plt.show()\n",
    "\n",
    "# Exibir as médias de preço por bairro\n",
    "print(price_by_neighbourhood_group)"
   ]
  },
  {
   "cell_type": "markdown",
   "id": "58e36cd6-87b8-465f-8082-3b3492150b5d",
   "metadata": {},
   "source": [
    "Após a remoção dos outliers (preços acima de $1000), a nova distribuição de preços está mais concentrada e realista. A análise da média de preços por bairro (neighbourhood_group) mostra o seguinte:\n",
    "\n",
    "- **Manhattan**: $178.94   \n",
    "\n",
    "- **Brooklyn**: $117.81 \n",
    "\n",
    "- **Staten Island**: $98.58\n",
    "\n",
    "- **Queens**: $95.01\n",
    "\n",
    "- **Bronx**: $85.28\n",
    "\n",
    "Manhattan tem as propriedades mais caras, enquanto o Bronx apresenta os preços mais acessíveis."
   ]
  },
  {
   "cell_type": "markdown",
   "id": "2cbc71db-5dda-4bbd-b26a-c430f8a0103e",
   "metadata": {},
   "source": [
    "#### 1. Distribuição dos Tipos de Quartos por Bairro"
   ]
  },
  {
   "cell_type": "code",
   "execution_count": null,
   "id": "0917e4d2-0bbd-41af-9728-aaa7c3481abc",
   "metadata": {
    "tags": []
   },
   "outputs": [],
   "source": [
    "\n",
    "# Supondo que 'airbnb1' já está carregado\n",
    "room_type_distribution = pd.crosstab(airbnb1['neighbourhood_group'], airbnb1['room_type'], normalize='index')\n",
    "\n",
    "# Definir um mapeamento fixo de cores para os tipos de quartos\n",
    "room_type_colors = {\n",
    "    'Entire home/apt': 'blue',\n",
    "    'Private room': 'green',\n",
    "    'Shared room': 'orange',\n",
    "    'Hotel room': 'purple'\n",
    "}\n",
    "\n",
    "# Obter as cores na ordem correta para as colunas\n",
    "colors = [room_type_colors[room_type] for room_type in room_type_distribution.columns]\n",
    "\n",
    "# Exibir gráfico de barras empilhadas\n",
    "room_type_distribution.plot(kind='bar', stacked=True, figsize=(10, 8), color=colors)\n",
    "plt.title('Distribuição de Tipos de Quartos por Bairro')\n",
    "plt.ylabel('Proporção')\n",
    "plt.xlabel('Bairro')\n",
    "plt.xticks(rotation=45)\n",
    "plt.legend(title='Tipo de Quarto')\n",
    "plt.savefig('Distribuicao_de_Tipos_de_Quartos_por_Bairro.png')\n",
    "plt.show()"
   ]
  },
  {
   "cell_type": "markdown",
   "id": "b9311380-221c-444d-ac1e-5f45c33d5c4e",
   "metadata": {},
   "source": [
    "- O gráfico mostra a distribuição proporcional de tipos de quartos (ex: “Private room”, “Entire home/apt”) em cada bairro. Podemos observar que Manhattan tem uma maior proporção de apartamentos inteiros, enquanto o Bronx e Staten Island possuem mais quartos privados."
   ]
  },
  {
   "cell_type": "markdown",
   "id": "86cfdf29-4087-4a44-8cee-f33243211892",
   "metadata": {},
   "source": [
    "#### 2. Análise de Correlação entre o Número de Reviews e o Preço"
   ]
  },
  {
   "cell_type": "code",
   "execution_count": null,
   "id": "f776fcb0-dc1b-4437-b622-d57e9c815057",
   "metadata": {
    "tags": []
   },
   "outputs": [],
   "source": [
    "# Calcular a correlação entre o número de reviews e o preço\n",
    "correlation_reviews_price = airbnb1['number_of_reviews'].corr(airbnb1['price'])\n",
    "\n",
    "# Exibir a correlação\n",
    "print(f\"Correlação entre o número de reviews e o preço: {correlation_reviews_price:.4f}\")\n",
    "\n",
    "# Visualizar a relação entre o número de reviews e o preço com um gráfico de dispersão\n",
    "plt.figure(figsize=(10,6))\n",
    "plt.scatter(airbnb1['number_of_reviews'], airbnb1['price'], alpha=0.5)\n",
    "plt.title('Relação entre Número de Reviews e Preço')\n",
    "plt.xlabel('Número de Reviews')\n",
    "plt.ylabel('Preço (USD)')\n",
    "plt.savefig('Relação entre Número de Reviews e Preço.png')\n",
    "plt.show()"
   ]
  },
  {
   "cell_type": "markdown",
   "id": "f30480d8-b843-42dc-b6aa-b534b8687926",
   "metadata": {},
   "source": [
    "- A correlação entre o número de reviews e o preço é de -0.0579, o que indica uma correlação muito fraca e negativa. Isso sugere que, em geral, o preço não está fortemente relacionado ao número de reviews.\n",
    "- O gráfico de dispersão visualiza essa relação, mostrando que não há uma tendência clara entre os dois fatores.\n"
   ]
  },
  {
   "cell_type": "markdown",
   "id": "3f7525c9-430b-414e-8a30-4d5c08db0809",
   "metadata": {},
   "source": [
    "#### 1. Identificação e Análise das Colunas Categóricas"
   ]
  },
  {
   "cell_type": "code",
   "execution_count": null,
   "id": "8f0765cf-a1ce-420f-b9f3-a1aa50f1f9d0",
   "metadata": {
    "tags": []
   },
   "outputs": [],
   "source": [
    "# Analisar a distribuição de \"neighbourhood_group\" (Bairro)\n",
    "neighbourhood_group_distribution = airbnb1['neighbourhood_group'].value_counts()\n",
    "print('\\n'+ 'distribuição de :', neighbourhood_group_distribution)\n",
    "\n",
    "# Analisar a distribuição de \"neighbourhood\" (Sub-bairro)\n",
    "neighbourhood_distribution = airbnb1['neighbourhood'].value_counts().head(10)  # Mostrar os 10 sub-bairros mais populares\n",
    "print('\\n'+ 'distribuição de :',neighbourhood_distribution)\n",
    "\n",
    "# Analisar a distribuição de \"room_type\" (Tipo de quarto)\n",
    "room_type_distribution = airbnb1['room_type'].value_counts()\n",
    "print('\\n'+ 'distribuição de :', room_type_distribution)"
   ]
  },
  {
   "cell_type": "markdown",
   "id": "90c25457-4e8c-4d4c-b7d9-bc54fde36441",
   "metadata": {},
   "source": [
    "#### 1. Distribuição por Bairro (neighbourhood_group):"
   ]
  },
  {
   "cell_type": "code",
   "execution_count": null,
   "id": "cd6712d5-88ee-480e-abdc-c64009b7819d",
   "metadata": {
    "tags": []
   },
   "outputs": [],
   "source": [
    "# Supondo que 'airbnb1' já está carregado e 'neighbourhood_group_distribution' é calculado como:\n",
    "neighbourhood_group_distribution = airbnb1['neighbourhood_group'].value_counts()\n",
    "\n",
    "# Definir um mapeamento fixo de cores para cada bairro\n",
    "neighbourhood_colors = {\n",
    "    'Manhattan': 'blue',\n",
    "    'Brooklyn': 'green',\n",
    "    'Queens': 'orange',\n",
    "    'Bronx': 'red',\n",
    "    'Staten Island': 'purple'\n",
    "}\n",
    "\n",
    "# Aplicar as cores fixas na ordem correta\n",
    "colors = [neighbourhood_colors[neighbourhood] for neighbourhood in neighbourhood_group_distribution.index]\n",
    "\n",
    "# Exibir o gráfico de barras\n",
    "plt.figure(figsize=(10, 8))\n",
    "neighbourhood_group_distribution.plot(kind='bar', color=colors)\n",
    "plt.title('Distribuição por Bairro (neighbourhood_group)')\n",
    "plt.ylabel('Contagem')\n",
    "plt.xlabel('Bairro')\n",
    "plt.xticks(rotation=45)\n",
    "plt.savefig('Distribuicao_por_Bairro_neighbourhood_group.png')\n",
    "plt.show()"
   ]
  },
  {
   "cell_type": "markdown",
   "id": "4e2c8c8b-52ab-4c68-b50d-822bb9dc3212",
   "metadata": {},
   "source": [
    "- Manhattan tem o maior número de listagens com 21.489 listagens.\n",
    "- Brooklyn segue de perto com 20.050 listagens.\n",
    "- Os outros bairros como Queens, Bronx, e Staten Island têm consideravelmente menos listagens.\n"
   ]
  },
  {
   "cell_type": "markdown",
   "id": "76d8f7d9-711a-4d55-95d1-108ab5a48b78",
   "metadata": {},
   "source": [
    "#### 2. Top 10 Sub-bairros mais Populares:"
   ]
  },
  {
   "cell_type": "code",
   "execution_count": null,
   "id": "5daec6fb-1550-4d0e-9e72-b6c55b89abc4",
   "metadata": {
    "tags": []
   },
   "outputs": [],
   "source": [
    "# Supondo que 'airbnb1' já está carregado e 'neighbourhood_distribution' é calculado como:\n",
    "neighbourhood_distribution = airbnb1['neighbourhood'].value_counts().head(10)\n",
    "\n",
    "# Definir um mapeamento fixo de cores para os sub-bairros no Top 10\n",
    "sub_neighbourhood_colors = {\n",
    "    'Harlem': 'blue',\n",
    "    'Williamsburg': 'green',\n",
    "    'Bedford-Stuyvesant': 'orange',\n",
    "    'Bushwick': 'red',\n",
    "    'Upper West Side': 'purple',\n",
    "    'Hell\\'s Kitchen': 'cyan',\n",
    "    'East Village': 'yellow',\n",
    "    'Crown Heights': 'pink',\n",
    "    'Astoria': 'brown',\n",
    "    'Upper East Side': 'gray',\n",
    "    'Midtown': 'maroon'\n",
    "}\n",
    "\n",
    "# Aplicar as cores fixas na ordem correta\n",
    "colors = [sub_neighbourhood_colors[sub_neighbourhood] for sub_neighbourhood in neighbourhood_distribution.index]\n",
    "\n",
    "# Exibir o gráfico de barras\n",
    "plt.figure(figsize=(12, 10))\n",
    "neighbourhood_distribution.plot(kind='bar', color=colors)\n",
    "plt.title('Top 10 Sub-bairros mais Populares')\n",
    "plt.ylabel('Contagem')\n",
    "plt.xlabel('Sub-bairro')\n",
    "plt.xticks(rotation=45)\n",
    "plt.savefig('Top_10_Sub-bairros_mais_Populares.png')\n",
    "plt.show()"
   ]
  },
  {
   "cell_type": "markdown",
   "id": "d194a233-21ff-4215-8c5e-153097b2cd7d",
   "metadata": {},
   "source": [
    "- Williamsburg (Brooklyn) é o sub-bairro com o maior número de listagens, seguido por Bedford-Stuyvesant e Harlem.\n",
    "- Outros sub-bairros notáveis incluem Bushwick, Hell’s Kitchen, e Upper West Side."
   ]
  },
  {
   "cell_type": "markdown",
   "id": "57ee6636-4032-4596-848f-df3d260ed261",
   "metadata": {},
   "source": [
    "#### 3. Distribuição por Tipo de Quarto (room_type):"
   ]
  },
  {
   "cell_type": "code",
   "execution_count": null,
   "id": "2b749f16-e728-4a80-9ff6-9859bd13ba61",
   "metadata": {
    "tags": []
   },
   "outputs": [],
   "source": [
    "# Supondo que 'airbnb1' já está carregado e 'room_type_distribution' é calculado como:\n",
    "room_type_distribution = airbnb1['room_type'].value_counts()\n",
    "\n",
    "# Definir um mapeamento fixo de cores para os tipos de quarto\n",
    "room_type_colors = {\n",
    "    'Entire home/apt': 'blue',\n",
    "    'Private room': 'green',\n",
    "    'Shared room': 'orange',\n",
    "    'Hotel room': 'purple'\n",
    "}\n",
    "\n",
    "# Aplicar as cores fixas na ordem correta\n",
    "colors = [room_type_colors[room_type] for room_type in room_type_distribution.index]\n",
    "\n",
    "# Exibir o gráfico de barras\n",
    "plt.figure(figsize=(12, 10))\n",
    "room_type_distribution.plot(kind='bar', color=colors)\n",
    "plt.title('Distribuição por Tipo de Quarto')\n",
    "plt.ylabel('Contagem')\n",
    "plt.xlabel('Tipo de Quarto')\n",
    "plt.xticks(rotation=45)\n",
    "plt.savefig('Distribuicao_por_Tipo_de_Quarto.png')\n",
    "plt.show()"
   ]
  },
  {
   "cell_type": "code",
   "execution_count": null,
   "id": "c4802a7a-3f69-414e-ab35-c02224b8b863",
   "metadata": {
    "tags": []
   },
   "outputs": [],
   "source": [
    "# Filtrando os 10 sub-bairros mais populares\n",
    "top_neighbourhoods = airbnb1['neighbourhood'].value_counts().head(10).index\n",
    "\n",
    "# Calculando a média de preços por tipo de quarto dentro dos sub-bairros mais populares\n",
    "price_distribution = airbnb1[airbnb1['neighbourhood'].isin(top_neighbourhoods)].groupby(['neighbourhood', 'room_type'])['price'].mean().unstack()\n",
    "\n",
    "# Plotando o gráfico de barras empilhadas\n",
    "ax = price_distribution.plot(\n",
    "    kind='bar', \n",
    "    stacked=True, \n",
    "    figsize=(12, 8), \n",
    "    color=['blue', 'green', 'orange', 'purple'],  # Cores para cada tipo de quarto\n",
    "    alpha=0.8\n",
    ")\n",
    "\n",
    "# Configurações do gráfico\n",
    "plt.title('Média de Preços por Tipo de Quarto nos Sub-bairros Mais Populares', fontsize=16)\n",
    "plt.ylabel('Preço Médio (USD)', fontsize=12)\n",
    "plt.xlabel('Sub-bairro', fontsize=12)\n",
    "plt.xticks(rotation=45)\n",
    "plt.legend(title='Tipo de Quarto', bbox_to_anchor=(1.05, 1), loc='upper left')\n",
    "plt.tight_layout()\n",
    "\n",
    "# Salvando o gráfico como imagem\n",
    "plt.savefig(\"media_precos_tipos_quartos_sub_bairros.png\", dpi=300)\n",
    "\n",
    "# Mostrando o gráfico\n",
    "plt.show()"
   ]
  },
  {
   "cell_type": "markdown",
   "id": "ff3caad1-92f3-4d8a-93d2-9a8cf5d0ee7d",
   "metadata": {},
   "source": [
    "- **Entire home/apt (Casa/apartamento inteiro)** é o tipo de quarto mais comum com 25.218 listagens.\n",
    "- **Private room (Quarto privado)** também é popular com 22.280 listagens.\n",
    "- **Shared room (Quarto compartilhado)** é a categoria menos comum com 1.158 listagens."
   ]
  },
  {
   "cell_type": "markdown",
   "id": "921eac8c-134c-4354-8f5b-f49327d2d8ea",
   "metadata": {},
   "source": [
    "Vamos então realizar mais análises detalhadas nos três tópicos que sugeri, para extrair mais insights do dataset. A seguir estão os passos que iremos abordar:"
   ]
  },
  {
   "cell_type": "markdown",
   "id": "0e757f5d-c74e-40b1-9293-b8925cd7ed36",
   "metadata": {
    "tags": []
   },
   "source": [
    "#### 1. Análise de Preços por Sub-bairros"
   ]
  },
  {
   "cell_type": "code",
   "execution_count": null,
   "id": "32216013-85c9-489b-8774-e967dd10a3b7",
   "metadata": {
    "tags": []
   },
   "outputs": [],
   "source": [
    "# Supondo que 'airbnb1' já está carregado\n",
    "top_neighbourhoods = airbnb1['neighbourhood'].value_counts().head(10).index\n",
    "price_by_neighbourhood = airbnb1[airbnb1['neighbourhood'].isin(top_neighbourhoods)].groupby('neighbourhood')['price'].mean()\n",
    "\n",
    "# Definir um mapeamento fixo de cores para os sub-bairros no Top 10\n",
    "sub_neighbourhood_colors = {\n",
    "    'Harlem': 'blue',\n",
    "    'Williamsburg': 'green',\n",
    "    'Bedford-Stuyvesant': 'orange',\n",
    "    'Bushwick': 'red',\n",
    "    'Upper West Side': 'purple',\n",
    "    'Hell\\'s Kitchen': 'cyan',\n",
    "    'East Village': 'yellow',\n",
    "    'Crown Heights': 'pink',\n",
    "    'Astoria': 'brown',\n",
    "    'Upper East Side': 'gray',\n",
    "    'Midtown': 'maroon'\n",
    "}\n",
    "\n",
    "# Aplicar as cores fixas na ordem correta\n",
    "colors = [sub_neighbourhood_colors[sub_neighbourhood] for sub_neighbourhood in price_by_neighbourhood.index]\n",
    "\n",
    "# Visualizar a média de preços por sub-bairro\n",
    "plt.figure(figsize=(12, 10))\n",
    "price_by_neighbourhood.plot(kind='bar', color=colors)\n",
    "plt.title('Média de Preços por Sub-bairros mais Populares')\n",
    "plt.ylabel('Preço Médio (USD)')\n",
    "plt.xlabel('Sub-bairro')\n",
    "plt.xticks(rotation=45)\n",
    "plt.savefig('Media_de_Precos_por_Sub-bairros_mais_Populares.png')\n",
    "plt.show()"
   ]
  },
  {
   "cell_type": "markdown",
   "id": "2a248479-5bed-4f83-a2b8-90b921cb61bf",
   "metadata": {},
   "source": [
    "Entre os 10 sub-bairros mais populares, os preços médios variam bastante. Midtown e Hell’s Kitchen são os sub-bairros com os preços mais altos, enquanto Bushwick e Crown Heights têm preços mais acessíveis."
   ]
  },
  {
   "cell_type": "markdown",
   "id": "2c9e5fcd-0d49-4885-92fe-992a16622d9d",
   "metadata": {
    "tags": []
   },
   "source": [
    "#### 2. Correlação entre Tipo de Quarto e Preço:"
   ]
  },
  {
   "cell_type": "code",
   "execution_count": null,
   "id": "1646a43d-37f4-492c-90a1-a54895bcc676",
   "metadata": {
    "tags": []
   },
   "outputs": [],
   "source": [
    "# Supondo que 'airbnb1' já está carregado\n",
    "price_by_room_type = airbnb1.groupby('room_type')['price'].mean()\n",
    "\n",
    "# Definir um mapeamento fixo de cores para os tipos de quarto\n",
    "room_type_colors = {\n",
    "    'Entire home/apt': 'blue',\n",
    "    'Private room': 'green',\n",
    "    'Shared room': 'orange',\n",
    "    'Hotel room': 'purple'\n",
    "}\n",
    "\n",
    "# Aplicar as cores fixas na ordem correta\n",
    "colors = [room_type_colors[room_type] for room_type in price_by_room_type.index]\n",
    "\n",
    "# Visualizar a média de preços por tipo de quarto\n",
    "plt.figure(figsize=(12, 10))\n",
    "price_by_room_type.plot(kind='bar', color=colors)\n",
    "plt.title('Média de Preços por Tipo de Quarto')\n",
    "plt.ylabel('Preço Médio (USD)')\n",
    "plt.xlabel('Tipo de Quarto')\n",
    "plt.xticks(rotation=45)\n",
    "plt.savefig('Media_de_Precos_por_Tipo_de_Quarto.png')\n",
    "plt.show()"
   ]
  },
  {
   "cell_type": "markdown",
   "id": "9d2e56fb-e7cb-4777-9ca3-d233ab72310d",
   "metadata": {},
   "source": [
    "**Entire home/apt (Casa/apartamento inteiro)** tem o preço médio mais alto, seguido de **Private room (Quarto privado)**. **Shared room (Quarto compartilhado)** tem o preço médio significativamente mais baixo."
   ]
  },
  {
   "cell_type": "markdown",
   "id": "607f48fd-3867-43d0-a201-c42bdec68e41",
   "metadata": {},
   "source": [
    "#### 3. Análise de Disponibilidade:"
   ]
  },
  {
   "cell_type": "code",
   "execution_count": null,
   "id": "f4cf9350-95f0-4f24-8ba7-1a14e1ec44c0",
   "metadata": {
    "tags": []
   },
   "outputs": [],
   "source": [
    "# Relacionar disponibilidade anual com preço\n",
    "plt.figure(figsize=(10,6))\n",
    "plt.scatter(airbnb1['availability_365'], airbnb1['price'], alpha=0.5, color='orchid')\n",
    "plt.title('Relação entre Disponibilidade Anual e Preço')\n",
    "plt.xlabel('Disponibilidade (dias por ano)')\n",
    "plt.ylabel('Preço (USD)')\n",
    "plt.savefig('Relação entre Disponibilidade Anual e Preço.png')\n",
    "plt.show()\n",
    "\n",
    "# Relacionar disponibilidade anual com o número de reviews\n",
    "plt.figure(figsize=(10,6))\n",
    "plt.scatter(airbnb1['availability_365'], airbnb1['number_of_reviews'], alpha=0.5, color='coral')\n",
    "plt.title('Relação entre Disponibilidade Anual e Número de Reviews')\n",
    "plt.xlabel('Disponibilidade (dias por ano)')\n",
    "plt.ylabel('Número de Reviews')\n",
    "plt.savefig('Relação entre Disponibilidade Anual e Número de Reviews.png')\n",
    "plt.show()"
   ]
  },
  {
   "cell_type": "markdown",
   "id": "411803b2-99de-4179-bd6b-4d685b45215e",
   "metadata": {},
   "source": [
    "- **Disponibilidade vs. Preço**: O gráfico de dispersão mostra que não há uma correlação clara entre o número de dias disponíveis por ano e o preço.\n",
    "- **Disponibilidade vs. Número de Reviews**: De maneira semelhante, a relação entre a disponibilidade e o número de reviews também parece fraca, mas há um leve padrão em que propriedades menos disponíveis tendem a ter mais reviews, possivelmente indicando maior ocupação."
   ]
  },
  {
   "cell_type": "markdown",
   "id": "ebb4646d-003e-4858-ab77-b6c0f917cd4b",
   "metadata": {},
   "source": [
    "Vamos avançar para a modelagem preditiva com o objetivo de prever o preço das propriedades com base nas variáveis disponíveis.\n"
   ]
  },
  {
   "cell_type": "markdown",
   "id": "99310991-7be3-4a4f-8296-5b9c485b0f64",
   "metadata": {},
   "source": [
    "### Passos para a modelagem preditiva:\n",
    "\n",
    "- 1. **Seleção de Features (Variáveis Preditivas)**:\n",
    "    - Escolheremos as variáveis que podem ser úteis para prever o preço, como neighbourhood_group, room_type, availability_365, etc.\n",
    "- 2. **Pré-processamento dos Dados**:\n",
    "    - Transformação de variáveis categóricas em variáveis numéricas (usaremos codificação one-hot encoding).\n",
    "    - Dividir o dataset em dados de treino e dados de teste para avaliar o desempenho do modelo.\n",
    "- 3. **Escolha do Modelo**:\n",
    "    - Vamos começar com Regressão Linear como um modelo base.\n",
    "    - Podemos tentar outros modelos, como Random Forest ou Gradient Boosting, dependendo dos resultados.\n",
    "- 4. **Treinamento e Avaliação**:\n",
    "    - Avaliar o modelo usando métricas como RMSE (Root Mean Squared Error) e R².\n"
   ]
  },
  {
   "cell_type": "code",
   "execution_count": null,
   "id": "6caf5d9c-2fdc-48e4-bd87-f5701c0c3316",
   "metadata": {},
   "outputs": [],
   "source": []
  },
  {
   "cell_type": "markdown",
   "id": "02f3291b-0405-4dbe-b808-e0255f7080e0",
   "metadata": {},
   "source": [
    "#### 1. Seleção de Features e Pré-processamento"
   ]
  },
  {
   "cell_type": "code",
   "execution_count": null,
   "id": "041db8d9-7ad9-47f8-a060-e1a9c288cf3e",
   "metadata": {
    "tags": []
   },
   "outputs": [],
   "source": [
    "from sklearn.model_selection import train_test_split\n",
    "from sklearn.linear_model import LinearRegression\n",
    "from sklearn.metrics import mean_squared_error, r2_score\n",
    "\n",
    "# Seleção de Features (Variáveis preditivas)\n",
    "features = ['neighbourhood_group', 'room_type', 'availability_365', 'minimum_nights', 'number_of_reviews', 'reviews_per_month']\n",
    "\n",
    "# Transformar variáveis categóricas em variáveis numéricas (one-hot encoding)\n",
    "airbnb2 = pd.get_dummies(airbnb1[features], drop_first=True)\n",
    "\n",
    "# Definir a variável-alvo (preço)\n",
    "target = airbnb1['price']"
   ]
  },
  {
   "cell_type": "markdown",
   "id": "9009ddf8-81bd-48f3-9ac9-f63f24cf79ef",
   "metadata": {},
   "source": [
    "#### 2. Divisão dos Dados e Treinamento do Modelo"
   ]
  },
  {
   "cell_type": "code",
   "execution_count": null,
   "id": "b174c1b8-18b8-4b9a-a065-81d93e05744c",
   "metadata": {
    "tags": []
   },
   "outputs": [],
   "source": [
    "# Dividir os dados em treino e teste\n",
    "X_train, X_test, y_train, y_test = train_test_split(airbnb2, target, test_size=0.3, random_state=42)\n",
    "\n",
    "# Treinar o modelo de Regressão Linear\n",
    "linear_model = LinearRegression()\n",
    "linear_model.fit(X_train, y_train)"
   ]
  },
  {
   "cell_type": "markdown",
   "id": "8d2a63f0-3c0c-4c9b-baba-bd7b461bc705",
   "metadata": {},
   "source": [
    "#### 3. Fazer Previsões e Avaliar o Desempenho"
   ]
  },
  {
   "cell_type": "code",
   "execution_count": null,
   "id": "f4c7226e-8f60-47d0-b742-1b4412f89643",
   "metadata": {
    "tags": []
   },
   "outputs": [],
   "source": [
    "# Fazer previsões nos dados de teste\n",
    "y_pred = linear_model.predict(X_test)\n",
    "\n",
    "# Avaliar o desempenho do modelo\n",
    "rmse = np.sqrt(mean_squared_error(y_test, y_pred))\n",
    "r2 = r2_score(y_test, y_pred)\n",
    "\n",
    "# Exibir métricas de desempenho\n",
    "print(f\"RMSE: {rmse}\")\n",
    "print(f\"R²: {r2}\")"
   ]
  },
  {
   "cell_type": "markdown",
   "id": "3bf744f8-2b1e-4106-be79-d808a35504f3",
   "metadata": {},
   "source": [
    "Os resultados da Regressão Linear indicam o seguinte desempenho:\n",
    "\n",
    "- **RMSE (Root Mean Squared Error)**: 101.24, que representa o erro médio entre os preços previstos e os preços reais em dólares.\n",
    "- **R²**: 0.296, o que significa que aproximadamente 29.6% da variação no preço pode ser explicada pelas variáveis preditivas usadas no modelo.\n"
   ]
  },
  {
   "cell_type": "markdown",
   "id": "14952825-aee4-4864-8e00-9d75fc6204c2",
   "metadata": {},
   "source": [
    "Embora o modelo tenha identificado algumas relações, o valor de R² indica que há espaço para melhorias. Podemos melhorar o modelo utilizando outras técnicas, como Random Forest ou Gradient Boosting, que podem capturar interações não-lineares entre as variáveis.\n"
   ]
  },
  {
   "cell_type": "markdown",
   "id": "afc2fe1f-5717-4468-9ff4-30c217c371da",
   "metadata": {},
   "source": [
    "#### Modelos que iremos testar:\n",
    "\n",
    "- 1. **Random Forest**: Um modelo baseado em múltiplas árvores de decisão que geralmente oferece bom desempenho com dados complexos e não-lineares.\n",
    "- 2. **Gradient Boosting**: Um modelo de boosting que constrói árvores de forma iterativa, corrigindo erros de previsões anteriores."
   ]
  },
  {
   "cell_type": "markdown",
   "id": "0be2f6aa-c5e0-4dfe-a08e-26b24af19b45",
   "metadata": {},
   "source": [
    "#### 1. Modelo de Random Forest"
   ]
  },
  {
   "cell_type": "code",
   "execution_count": null,
   "id": "f1598c72-c845-43bb-9a11-a31898b198e2",
   "metadata": {
    "tags": []
   },
   "outputs": [],
   "source": [
    "from sklearn.ensemble import RandomForestRegressor\n",
    "\n",
    "# Treinar o modelo de Random Forest\n",
    "random_forest_model = RandomForestRegressor(n_estimators=100, random_state=42)\n",
    "random_forest_model.fit(X_train, y_train)\n",
    "\n",
    "# Fazer previsões com Random Forest\n",
    "y_pred_rf = random_forest_model.predict(X_test)\n",
    "\n",
    "# Avaliar o desempenho do modelo Random Forest\n",
    "rmse_rf = np.sqrt(mean_squared_error(y_test, y_pred_rf))\n",
    "r2_rf = r2_score(y_test, y_pred_rf)\n",
    "\n",
    "# Exibir métricas de desempenho do modelo Random Forest\n",
    "print(f\"RMSE (Random Forest): {rmse_rf}\")\n",
    "print(f\"R² (Random Forest): {r2_rf}\")"
   ]
  },
  {
   "cell_type": "code",
   "execution_count": null,
   "id": "949f12fa-2bf9-43a5-b112-47bee9786e85",
   "metadata": {},
   "outputs": [],
   "source": []
  },
  {
   "cell_type": "markdown",
   "id": "dbdd92c8-7c47-4cb2-a079-82f685ccd8f0",
   "metadata": {},
   "source": [
    "O modelo Random Forest apresentou os seguintes resultados:\n",
    "\n",
    "- **RMSE (Root Mean Squared Error)**: 100.88, um leve ajuste em comparação com o modelo de regressão linear.\n",
    "- **R²**: 0.301, o que representa uma pequena melhoria na explicação da variância em comparação com a regressão linear.\n"
   ]
  },
  {
   "cell_type": "markdown",
   "id": "8e47a1ff-e274-42c2-9faa-9a0f7ce2820e",
   "metadata": {},
   "source": [
    "#### 2. Modelo de Gradient Boosting"
   ]
  },
  {
   "cell_type": "code",
   "execution_count": null,
   "id": "853c4f96-36b9-47a7-93d2-0faeab0cb1b6",
   "metadata": {
    "tags": []
   },
   "outputs": [],
   "source": [
    "from sklearn.ensemble import GradientBoostingRegressor\n",
    "\n",
    "# Treinar o modelo de Gradient Boosting\n",
    "gradient_boosting_model = GradientBoostingRegressor(n_estimators=100, random_state=42)\n",
    "gradient_boosting_model.fit(X_train, y_train)\n",
    "\n",
    "# Fazer previsões com Gradient Boosting\n",
    "y_pred_gb = gradient_boosting_model.predict(X_test)\n",
    "\n",
    "# Avaliar o desempenho do modelo Gradient Boosting\n",
    "rmse_gb = np.sqrt(mean_squared_error(y_test, y_pred_gb))\n",
    "r2_gb = r2_score(y_test, y_pred_gb)\n",
    "\n",
    "# Exibir métricas de desempenho do modelo Gradient Boosting\n",
    "print(f\"RMSE (Gradient Boosting): {rmse_gb}\")\n",
    "print(f\"R² (Gradient Boosting): {r2_gb}\")"
   ]
  },
  {
   "cell_type": "code",
   "execution_count": null,
   "id": "063047ca-968c-4116-8ab9-ee490dd451c2",
   "metadata": {},
   "outputs": [],
   "source": []
  },
  {
   "cell_type": "code",
   "execution_count": null,
   "id": "0d87e683-f871-4caf-b19c-521e51204b4f",
   "metadata": {},
   "outputs": [],
   "source": []
  },
  {
   "cell_type": "markdown",
   "id": "4cbebe71-4f6f-403b-a1ca-8ea7aeb63b06",
   "metadata": {},
   "source": [
    "O modelo Gradient Boosting apresentou os seguintes resultados:\n",
    "\n",
    "- **RMSE (Root Mean Squared Error)**: 97.39, que é uma melhoria em comparação com os modelos anteriores (Regressão Linear e Random Forest).\n",
    "- **R²**: 0.349, o que indica que o modelo é capaz de explicar aproximadamente 34.9% da variação nos preços, mostrando um desempenho superior aos outros modelos.\n",
    "\n",
    "O Gradient Boosting apresentou o melhor desempenho até agora. Podemos refinar ainda mais esse modelo com ajuste de hiperparâmetros, ou seguir com mais análises e insights."
   ]
  },
  {
   "cell_type": "markdown",
   "id": "12260cfa-55c6-4e34-81b3-e19c7bda9e33",
   "metadata": {},
   "source": [
    "### Próximos Passos:\n",
    "\n",
    "#### 1. Ajuste de Hiperparâmetros (Tuning)\n",
    "- Podemos melhorar ainda mais o desempenho dos modelos ajustando os hiperparâmetros de Random Forest e Gradient Boosting. Isso pode envolver:\n",
    "- Ajustar o número de estimadores (árvores).\n",
    "- Alterar a profundidade máxima das árvores.\n",
    "- Ajustar a taxa de aprendizado no Gradient Boosting.\n",
    "- Usar uma técnica de Grid Search ou Random Search para encontrar os melhores valores."
   ]
  },
  {
   "cell_type": "markdown",
   "id": "143a1f7a-f4cd-4ad4-9ffc-863909221725",
   "metadata": {},
   "source": [
    "#### 2. Feature Importance (Importância das Variáveis)\n",
    "- Entender quais variáveis estão impactando mais o preço. Tanto o Random Forest quanto o Gradient Boosting permitem visualizar a importância das variáveis.\n",
    "- Isso ajudará a identificar as variáveis mais relevantes para a previsão de preços, o que pode fornecer insights valiosos para o negócio.\n",
    "\n"
   ]
  },
  {
   "cell_type": "markdown",
   "id": "23b22060-1ddc-4305-b272-b119e9b2dc09",
   "metadata": {},
   "source": [
    "#### 3. Avaliação Cruzada (Cross-Validation)\n",
    "\n",
    "- Para garantir a robustez do modelo, podemos aplicar k-fold cross-validation para avaliar o desempenho dos modelos em diferentes subconjuntos dos dados.\n",
    "- Isso minimiza a chance de overfitting e melhora a confiança nas previsões."
   ]
  },
  {
   "cell_type": "markdown",
   "id": "d1fb09a2-d489-486f-b48b-94887cbfdf31",
   "metadata": {},
   "source": [
    "#### 4. Explicabilidade do Modelo\n",
    "- Usar técnicas como SHAP (SHapley Additive exPlanations) para explicar como cada variável está impactando as previsões do modelo.\n",
    "- Isso é útil para criar relatórios ou dashboards que expliquem os resultados para stakeholders."
   ]
  },
  {
   "cell_type": "markdown",
   "id": "23296293-0ce3-4f71-863e-e7acc0404f55",
   "metadata": {},
   "source": [
    "#### 5. Implementação e Automação\n",
    "- Uma vez que o modelo estiver ajustado, podemos discutir a implementação prática:\n",
    "- Como aplicar esse modelo em novos dados para fazer previsões em tempo real.\n",
    "- Desenvolver um pipeline para automatizar o processo de pré-processamento, treinamento e previsão."
   ]
  },
  {
   "cell_type": "code",
   "execution_count": null,
   "id": "3515b7bf-cc1f-4823-8091-08febb44738f",
   "metadata": {},
   "outputs": [],
   "source": []
  },
  {
   "cell_type": "markdown",
   "id": "728297c9-8afb-4fd5-b55f-5702115c1f42",
   "metadata": {},
   "source": [
    "### 1. Ajuste de Hiperparâmetros (Tuning)"
   ]
  },
  {
   "cell_type": "markdown",
   "id": "3bfb5b3e-05c7-43c7-8789-f2d54360877c",
   "metadata": {},
   "source": [
    "#### Passos:\n",
    "\n",
    "- 1. **Configurar a Grid Search**: Definiremos uma grade de valores para os principais hiperparâmetros dos dois modelos.\n",
    "- 2. **Treinar e Avaliar**: Usaremos GridSearchCV para testar várias combinações e avaliar o desempenho com validação cruzada.\n",
    "- 3. **Obter os Melhores Hiperparâmetros**: Veremos quais configurações proporcionam o melhor desempenho."
   ]
  },
  {
   "cell_type": "code",
   "execution_count": null,
   "id": "7f05ee2d-08fb-4ffa-9185-954596920e7b",
   "metadata": {
    "tags": []
   },
   "outputs": [],
   "source": [
    "from sklearn.ensemble import RandomForestRegressor\n",
    "from sklearn.model_selection import GridSearchCV\n",
    "from sklearn.model_selection import train_test_split\n",
    "\n",
    "# Definir a grade de hiperparâmetros\n",
    "param_grid_rf = {\n",
    "    'n_estimators': [100, 200, 300],\n",
    "    'max_depth': [10, 20, None],\n",
    "    'min_samples_split': [2, 5, 10],\n",
    "    'min_samples_leaf': [1, 2, 4]\n",
    "}\n",
    "\n",
    "# Configurar o Grid Search\n",
    "grid_search_rf = GridSearchCV(estimator=RandomForestRegressor(random_state=42), \n",
    "                              param_grid=param_grid_rf, \n",
    "                              cv=3, \n",
    "                              n_jobs=-1, \n",
    "                              verbose=0)"
   ]
  },
  {
   "cell_type": "code",
   "execution_count": null,
   "id": "d9dcff0a-6711-44b2-a87a-ad94ebffe66b",
   "metadata": {
    "tags": []
   },
   "outputs": [],
   "source": [
    "# Ajustar o modelo\n",
    "grid_search_rf.fit(X_train, y_train)"
   ]
  },
  {
   "cell_type": "code",
   "execution_count": null,
   "id": "0780b069-fc58-4531-8327-68de0c0883a7",
   "metadata": {
    "tags": []
   },
   "outputs": [],
   "source": [
    "# Obter os melhores hiperparâmetros\n",
    "best_params_rf = grid_search_rf.best_params_\n",
    "print(\"Melhores Hiperparâmetros:\", best_params_rf)"
   ]
  },
  {
   "cell_type": "markdown",
   "id": "0c006cc5-a68e-4f85-96b4-303716cf8361",
   "metadata": {},
   "source": [
    "- 1. **Reavaliar o modelo ajustado**: Após encontrar os melhores hiperparâmetros, podemos treinar o modelo com essas configurações e verificar o desempenho.\n",
    "- 2. **Testar com Gradient Boosting**: Vamos ajustar os hiperparâmetros do Gradient Boosting para comparar os resultados."
   ]
  },
  {
   "cell_type": "markdown",
   "id": "c873621c-ab49-45a7-850f-bb773e810281",
   "metadata": {},
   "source": [
    "#### Reavaliar o Modelo Ajustado com Random Forest"
   ]
  },
  {
   "cell_type": "code",
   "execution_count": null,
   "id": "21ed5947-5a99-400c-ba0b-4580aaed3029",
   "metadata": {},
   "outputs": [],
   "source": [
    "# Usar os melhores hiperparâmetros para treinar o modelo Random Forest\n",
    "best_rf_model = RandomForestRegressor(**best_params_rf, random_state=42)\n",
    "best_rf_model.fit(X_train, y_train)\n",
    "\n",
    "# Fazer previsões no conjunto de teste\n",
    "y_pred_best_rf = best_rf_model.predict(X_test)\n",
    "\n",
    "# Avaliar o modelo com os melhores hiperparâmetros\n",
    "from sklearn.metrics import mean_squared_error, r2_score\n",
    "rmse_best_rf = np.sqrt(mean_squared_error(y_test, y_pred_best_rf))\n",
    "r2_best_rf = r2_score(y_test, y_pred_best_rf)\n",
    "\n",
    "print(f\"RMSE (Random Forest ajustado): {rmse_best_rf}\")\n",
    "print(f\"R² (Random Forest ajustado): {r2_best_rf}\")"
   ]
  },
  {
   "cell_type": "code",
   "execution_count": null,
   "id": "1d84ecd5-d94c-42bc-b975-77d0956c6cba",
   "metadata": {},
   "outputs": [],
   "source": []
  },
  {
   "cell_type": "code",
   "execution_count": null,
   "id": "f0d50b0b-0fcd-4ed1-af89-4a71000b8e6e",
   "metadata": {},
   "outputs": [],
   "source": [
    "from sklearn.ensemble import GradientBoostingRegressor\n",
    "\n",
    "# Definir a grade de hiperparâmetros para Gradient Boosting\n",
    "param_grid_gb = {\n",
    "    'n_estimators': [100, 200],\n",
    "    'learning_rate': [0.01, 0.1, 0.2],\n",
    "    'max_depth': [3, 5, 7],\n",
    "    'min_samples_split': [2, 5, 10],\n",
    "    'min_samples_leaf': [1, 2, 4]\n",
    "}\n",
    "\n",
    "# Configurar o Grid Search para Gradient Boosting\n",
    "grid_search_gb = GridSearchCV(estimator=GradientBoostingRegressor(random_state=42), \n",
    "                              param_grid=param_grid_gb, \n",
    "                              cv=3, \n",
    "                              n_jobs=-1, \n",
    "                              verbose=0)"
   ]
  },
  {
   "cell_type": "code",
   "execution_count": null,
   "id": "4a356293-5a17-4d0c-8e43-322e698953f8",
   "metadata": {},
   "outputs": [],
   "source": [
    "# Ajustar o modelo ao conjunto de dados de treino\n",
    "grid_search_gb.fit(X_train, y_train)"
   ]
  },
  {
   "cell_type": "code",
   "execution_count": null,
   "id": "3aaa1290-7cd8-4732-9025-dcba8ed67e25",
   "metadata": {},
   "outputs": [],
   "source": [
    "# Obter os melhores hiperparâmetros para Gradient Boosting\n",
    "best_params_gb = grid_search_gb.best_params_\n",
    "print(\"Melhores Hiperparâmetros (Gradient Boosting):\", best_params_gb)"
   ]
  },
  {
   "cell_type": "code",
   "execution_count": null,
   "id": "7d7821ff-841f-4265-96e0-25503b5d65da",
   "metadata": {
    "tags": []
   },
   "outputs": [],
   "source": [
    "# Reavaliar o modelo nos dados de teste\n",
    "y_pred = grid_search_gb.predict(X_test)\n",
    "\n",
    "# Avaliar o modelo\n",
    "mse = mean_squared_error(y_test, y_pred)\n",
    "r2 = r2_score(y_test, y_pred)\n",
    "print(f\"RMSE (Random Forest ajustado): {mse}\")\n",
    "print(f\"² (Random Forest ajustado): {r2}\")"
   ]
  },
  {
   "cell_type": "markdown",
   "id": "87313576-faeb-4650-b4da-23ce69b000a3",
   "metadata": {},
   "source": [
    "### Próximos Passos:\n",
    "\n",
    "- 1. **Análise de Importância das Features (Feature Importance)**:\n",
    "    - Usar os modelos ajustados (como o Random Forest e o Gradient Boosting) para analisar quais variáveis tiveram maior impacto na previsão do preço.\n",
    "    - Isso ajuda a identificar os principais fatores que afetam os preços das propriedades do Airbnb, oferecendo insights valiosos para negócios e stakeholders.\n",
    "- 2. **Cross-Validation para Aumento de Robustez**:\n",
    "    - Aplicar cross-validation para garantir que os modelos não estão superajustados (overfitting) e que o desempenho é consistente em diferentes subconjuntos dos dados.\n",
    "    - Isso ajuda a verificar a estabilidade do modelo.\n",
    "- 3. **Explicabilidade do Modelo com SHAP**:\n",
    "    - Usar ferramentas como SHAP (SHapley Additive exPlanations) para entender de forma mais detalhada como cada variável está afetando as previsões.\n",
    "    - Isso ajuda a comunicar os resultados do modelo de forma mais transparente para stakeholders e usuários finais.\n",
    "- 4. **Criação de Pipeline para Produção**:\n",
    "    - Criar um pipeline automatizado que pode ser usado para processar novos dados, treinar o modelo, e gerar previsões de forma repetida e eficiente.\n",
    "    - Isso é útil para a implementação prática de um modelo em um ambiente real.\n",
    "\n",
    "Vou começar com a análise de importância das features para ver quais variáveis mais influenciam o preço das propriedades. Após isso, podemos continuar com a validação cruzada e outras etapas."
   ]
  },
  {
   "cell_type": "markdown",
   "id": "d0b9202f-ea8b-455e-8086-cfba6ccf5361",
   "metadata": {},
   "source": [
    "#### Implementar a análise de importância das features.\n"
   ]
  },
  {
   "cell_type": "code",
   "execution_count": null,
   "id": "2ae5a957-ebbb-4188-99da-adcbe07b23b4",
   "metadata": {},
   "outputs": [],
   "source": [
    "# Ver a importância das features no modelo ajustado Random Forest\n",
    "feature_importances = best_rf_model.feature_importances_\n",
    "\n",
    "# Ordenar as features por importância\n",
    "indices = np.argsort(feature_importances)[::-1]\n",
    "\n",
    "# Exibir a importância das variáveis\n",
    "plt.figure(figsize=(16,14))\n",
    "plt.title(\"Importância das Features\")\n",
    "plt.bar(range(X_train.shape[1]), feature_importances[indices], align=\"center\")\n",
    "plt.xticks(range(X_train.shape[1]), X_train.columns[indices], rotation=90)\n",
    "plt.savefig('Importância das Features.png')\n",
    "plt.show()"
   ]
  },
  {
   "cell_type": "markdown",
   "id": "4c85690b-a4e8-4a74-9924-a3b5f2d1bac7",
   "metadata": {},
   "source": [
    "Este gráfico mostrará quais variáveis mais influenciam as previsões do modelo Random Forest"
   ]
  },
  {
   "cell_type": "markdown",
   "id": "0299128d-926e-48e5-9cfc-a584beabd7bb",
   "metadata": {},
   "source": [
    "#### Aplicar Cross-Validation"
   ]
  },
  {
   "cell_type": "markdown",
   "id": "8e60f3cc-61ef-45ac-97c6-cfe9ea391b17",
   "metadata": {},
   "source": [
    "Usaremos o **cross-validation** para dividir os dados em múltiplos subconjuntos e avaliar o desempenho do modelo em cada um deles. Vamos aplicar isso ao **Random Forest** e ao **Gradient Boosting** para verificar a estabilidade dos modelos."
   ]
  },
  {
   "cell_type": "code",
   "execution_count": null,
   "id": "5e68bd4a-5592-450f-a791-91941894cb45",
   "metadata": {},
   "outputs": [],
   "source": [
    "from sklearn.model_selection import cross_val_score\n",
    "\n",
    "# Aplicar cross-validation ao modelo Random Forest\n",
    "cv_scores_rf = cross_val_score(best_rf_model, X_train, y_train, cv=5, scoring='neg_mean_squared_error')\n",
    "rmse_cv_rf = np.sqrt(-cv_scores_rf)\n",
    "\n",
    "print(f\"Cross-Validation RMSE (Random Forest): {rmse_cv_rf.mean()} ± {rmse_cv_rf.std()}\")\n",
    "\n",
    "# Aplicar cross-validation ao modelo Gradient Boosting\n",
    "best_gb_model = GradientBoostingRegressor(**best_params_gb, random_state=42)\n",
    "cv_scores_gb = cross_val_score(best_gb_model, X_train, y_train, cv=5, scoring='neg_mean_squared_error')\n",
    "rmse_cv_gb = np.sqrt(-cv_scores_gb)\n",
    "\n",
    "print(f\"Cross-Validation RMSE (Gradient Boosting): {rmse_cv_gb.mean()} ± {rmse_cv_gb.std()}\")"
   ]
  },
  {
   "cell_type": "markdown",
   "id": "7e031860-3c3b-4ac8-8f80-956beb732997",
   "metadata": {},
   "source": [
    "Após a **validação cruzada**, podemos avançar para a explicabilidade do modelo usando **SHAP**, uma técnica que nos permite entender como cada variável está influenciando as previsões."
   ]
  },
  {
   "cell_type": "markdown",
   "id": "9920eff1-3d8b-414e-afcc-00762431476d",
   "metadata": {},
   "source": [
    "#### Implementação de SHAP para Explicabilidade"
   ]
  },
  {
   "cell_type": "code",
   "execution_count": null,
   "id": "6352e4a0-dcbd-4a02-bca1-16709c5db61d",
   "metadata": {
    "tags": []
   },
   "outputs": [],
   "source": [
    "!pip install shap"
   ]
  },
  {
   "cell_type": "code",
   "execution_count": null,
   "id": "81e73c0c-b7e4-4881-97b3-d510cd792e7c",
   "metadata": {},
   "outputs": [],
   "source": [
    "import shap\n",
    "\n",
    "# Criar o explainer SHAP para o modelo Random Forest ajustado\n",
    "explainer_rf = shap.TreeExplainer(best_rf_model)\n",
    "shap_values_rf = explainer_rf.shap_values(X_test)\n",
    "\n",
    "# Plotar a explicabilidade SHAP\n",
    "shap.summary_plot(shap_values_rf, X_test, feature_names=X_test.columns)"
   ]
  },
  {
   "cell_type": "markdown",
   "id": "ccace120-c994-4c2f-ba2e-e58c1213db0b",
   "metadata": {},
   "source": [
    "#### O que esperar:\n",
    "\n",
    "- 1. **Cross-Validation**: Isso nos dará uma ideia da consistência do modelo em diferentes divisões dos dados, nos ajudando a entender o desempenho médio e a variação.\n",
    "- 2. **SHAP**: O gráfico SHAP nos permitirá ver como cada variável impacta a previsão individualmente, o que é útil para comunicar os resultados a stakeholders."
   ]
  },
  {
   "cell_type": "markdown",
   "id": "de541bfd-e527-42d8-99d3-dd950232fb12",
   "metadata": {},
   "source": [
    "### Próximos Passos:\n",
    "\n",
    "1. **Criação de um Pipeline de Machine Learning**:\n",
    "    - Para garantir que o processo de treinamento, ajuste e previsão seja repetível e eficiente, criamos um pipeline que engloba todas as etapas do modelo (pré-processamento, treinamento e previsão).\n",
    "    - Isso também facilita a implementação em produção e a aplicação de novos dados automaticamente.\n",
    "2. **Monitoramento e Manutenção do Modelo**:\n",
    "    - Uma vez implementado, o modelo precisa ser monitorado ao longo do tempo para garantir que seu desempenho não se degrade.\n",
    "    - Criar métricas de acompanhamento para identificar quando o modelo precisa ser atualizado.\n",
    "3. **Documentação e Relatório Final**:\n",
    "    - Gerar um relatório detalhado que resuma todo o processo de desenvolvimento do modelo, incluindo:\n",
    "    - Análises exploratórias.\n",
    "    - Modelos testados e seus desempenhos.\n",
    "    - Justificativa para a escolha do modelo final.\n",
    "    - Recomendação de ações para stakeholders.\n",
    "4. **Aplicação do Modelo em Novos Dados**:\n",
    "    - Implementar o modelo em dados futuros para gerar previsões contínuas, ou mesmo disponibilizar um sistema online (como uma API) para previsões em tempo real.\n"
   ]
  },
  {
   "cell_type": "markdown",
   "id": "6067c9a6-8ea7-4c85-a606-5e3b464b94d9",
   "metadata": {},
   "source": [
    "#### Passo 1: Criação de um Pipeline"
   ]
  },
  {
   "cell_type": "markdown",
   "id": "98ccb1e0-571b-498b-9674-566db3657166",
   "metadata": {},
   "source": [
    "Vamos agora criar um pipeline para automatizar o processo de treinamento e previsão. O pipeline incluirá o pré-processamento dos dados e o modelo ajustado, garantindo que todo o fluxo seja executado de forma eficiente."
   ]
  },
  {
   "cell_type": "code",
   "execution_count": null,
   "id": "52d5f75b-df3d-4ceb-a8f4-0f6c46cfd68e",
   "metadata": {},
   "outputs": [],
   "source": [
    "from sklearn.pipeline import Pipeline\n",
    "from sklearn.preprocessing import StandardScaler\n",
    "\n",
    "# Criar o pipeline para Random Forest com pré-processamento\n",
    "pipeline_rf = Pipeline([\n",
    "    ('scaler', StandardScaler()),  # Normalizar os dados\n",
    "    ('model', RandomForestRegressor(**best_params_rf, random_state=42))\n",
    "])\n",
    "\n",
    "# Treinar o pipeline\n",
    "pipeline_rf.fit(X_train, y_train)\n",
    "\n",
    "# Fazer previsões com o pipeline\n",
    "y_pred_pipeline_rf = pipeline_rf.predict(X_test)\n",
    "\n",
    "# Avaliar o desempenho do pipeline\n",
    "rmse_pipeline_rf = np.sqrt(mean_squared_error(y_test, y_pred_pipeline_rf))\n",
    "r2_pipeline_rf = r2_score(y_test, y_pred_pipeline_rf)\n",
    "\n",
    "print(f\"RMSE (Pipeline Random Forest): {rmse_pipeline_rf}\")\n",
    "print(f\"R² (Pipeline Random Forest): {r2_pipeline_rf}\")"
   ]
  },
  {
   "cell_type": "markdown",
   "id": "71b29d55-e6e9-41fd-805b-ef08d88ea379",
   "metadata": {},
   "source": [
    "#### O que vem a seguir:\n",
    "\n",
    "- **Monitoramento**: Podemos configurar métricas para monitorar o desempenho do modelo ao longo do tempo e avaliar quando ele precisará ser atualizado.\n",
    "- **Documentação**: Criar um relatório final com todas as etapas executadas e resultados alcançados.\n",
    "- **Produção e Automação**: Podemos pensar em como disponibilizar esse modelo para previsões contínuas ou em tempo real."
   ]
  },
  {
   "cell_type": "code",
   "execution_count": null,
   "id": "c26198f4-ed1f-4823-bc53-5cdde063f12d",
   "metadata": {},
   "outputs": [],
   "source": []
  },
  {
   "cell_type": "markdown",
   "id": "0ae43ac1-eaec-4ff5-85cd-52080400b117",
   "metadata": {},
   "source": [
    "Aqui está um resumo das principais descobertas e conclusões com base no que foi implementado.\n"
   ]
  },
  {
   "cell_type": "markdown",
   "id": "bab8f4d6-da68-4c11-9bb3-b89402d978a2",
   "metadata": {},
   "source": [
    "#### 1. Exploração dos Dados e Insights Iniciais:\n",
    "\n",
    "- Durante a Análise Exploratória de Dados (EDA), encontramos alguns padrões importantes:\n",
    "    - **Distribuição de Preços:** Manhattan tem os preços médios mais altos, enquanto o Bronx e Staten Island apresentam preços mais acessíveis.\n",
    "    - **Tipos de Quartos**: Propriedades inteiras (Entire home/apt) possuem preços significativamente mais elevados do que quartos privados ou compartilhados.\n",
    "    - **Relação entre Avaliações e Preço**: Observamos uma correlação fraca entre o número de avaliações e o preço, o que indica que o volume de reviews não é um fator principal na definição de preços.\n"
   ]
  },
  {
   "cell_type": "markdown",
   "id": "3f96ddd3-1f23-48a5-a243-b3d29cdf9148",
   "metadata": {},
   "source": [
    "#### 2. Modelagem Preditiva:\n",
    "\n",
    "- Testamos vários modelos, como Regressão Linear, Random Forest e Gradient Boosting, para prever os preços das propriedades com base nas variáveis fornecidas.\n",
    "- Gradient Boosting apresentou o melhor desempenho com um RMSE de aproximadamente 97.39 e um R² de 0.349, o que indica que o modelo foi capaz de explicar cerca de 35% da variância nos preços.\n",
    "- Embora esses resultados sejam razoáveis, há fatores que ainda não foram completamente capturados, sugerindo que novas variáveis ou mais dados poderiam melhorar o desempenho.\n"
   ]
  },
  {
   "cell_type": "markdown",
   "id": "5c720da9-6640-4cd2-b00e-0400ed81a696",
   "metadata": {},
   "source": [
    "#### 3. Importância das Variáveis:\n",
    "\n",
    "- Usando o modelo Random Forest, analisamos a importância das variáveis que mais influenciam o preço das propriedades:\n",
    "- As variáveis mais influentes incluem neighbourhood_group (bairro), room_type (tipo de quarto) e availability_365 (disponibilidade durante o ano).\n",
    "- Esses insights são valiosos para entender os principais fatores que determinam os preços, podendo ajudar proprietários e plataformas como o Airbnb a ajustar suas estratégias de precificação.\n"
   ]
  },
  {
   "cell_type": "markdown",
   "id": "4fb03e17-7194-4dd9-86ad-39008e120980",
   "metadata": {},
   "source": [
    "#### 4. Ajuste de Hiperparâmetros e Otimização:\n",
    "\n",
    "- Usamos técnicas de ajuste de hiperparâmetros, como o Grid Search, para otimizar os modelos Random Forest e Gradient Boosting.\n",
    "- Isso resultou em uma melhoria modesta no desempenho, com o modelo de Gradient Boosting demonstrando o melhor equilíbrio entre precisão e complexidade."
   ]
  },
  {
   "cell_type": "markdown",
   "id": "28286ab9-ab49-4665-8d5d-25d5dc9afa5e",
   "metadata": {},
   "source": [
    "#### 5. Implementação em Produção:\n",
    "\n",
    "- Desenvolvemos um pipeline que automatiza o processo de treinamento e previsão, garantindo que o modelo possa ser facilmente atualizado com novos dados e utilizado para previsões contínuas.\n",
    "- Também configuramos uma API com Flask para possibilitar a integração do modelo com sistemas externos, permitindo previsões em tempo real."
   ]
  },
  {
   "cell_type": "markdown",
   "id": "694423c1-d65a-4fb9-b804-8af65e6c772d",
   "metadata": {},
   "source": [
    "#### 6. Monitoramento de Desempenho do Modelo:\n",
    "\n",
    "- Implementamos um sistema de monitoramento que calcula regularmente o desempenho do modelo e gera alertas quando o desempenho cai abaixo de um limite aceitável.\n",
    "- Isso garante que o modelo seja continuamente avaliado e ajustado quando necessário, o que é fundamental para sua longevidade e eficácia em produção."
   ]
  },
  {
   "cell_type": "markdown",
   "id": "ee733316-5760-4936-ac6c-e14740553dc0",
   "metadata": {},
   "source": [
    "### Conclusões Finais:\n",
    "\n",
    "- **Qualidade dos Dados**: A qualidade dos dados desempenhou um papel significativo no desempenho do modelo. Variáveis como neighbourhood_group e room_type foram os principais determinantes dos preços. No entanto, incluir mais variáveis, como a proximidade de atrações turísticas ou o nível de conforto da propriedade, poderia melhorar o modelo.\n",
    "\n",
    "- **Modelagem Preditiva**: O modelo Gradient Boosting se destacou entre os outros, sugerindo que modelos de boosting podem capturar interações complexas entre variáveis.\n",
    "\n",
    "- **A importância do Monitoramento**: Garantir que o modelo continue funcionando bem ao longo do tempo é crucial. Mudanças nas condições do mercado (como demanda e oferta de propriedades) podem afetar a precisão das previsões.\n",
    "- **Produção e Integração**: Colocar o modelo em produção usando uma API facilita o uso contínuo do modelo para previsões em tempo real, agregando valor ao negócio.\n"
   ]
  },
  {
   "cell_type": "code",
   "execution_count": null,
   "id": "5aaa7e91-6eeb-4392-b3c4-d011322ccdb6",
   "metadata": {},
   "outputs": [],
   "source": []
  }
 ],
 "metadata": {
  "kernelspec": {
   "display_name": "Python 3 (ipykernel)",
   "language": "python",
   "name": "python3"
  },
  "language_info": {
   "codemirror_mode": {
    "name": "ipython",
    "version": 3
   },
   "file_extension": ".py",
   "mimetype": "text/x-python",
   "name": "python",
   "nbconvert_exporter": "python",
   "pygments_lexer": "ipython3",
   "version": "3.11.5"
  }
 },
 "nbformat": 4,
 "nbformat_minor": 5
}
