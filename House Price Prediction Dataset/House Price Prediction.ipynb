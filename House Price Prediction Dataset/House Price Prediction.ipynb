{
 "cells": [
  {
   "cell_type": "markdown",
   "id": "ee2a6ca3-44f6-4ece-9c9d-22cae04a496c",
   "metadata": {},
   "source": [
    "# House Price Prediction\n",
    "This notebook aims to predict house prices using various features from a real estate dataset. The objective is to build a predictive model that accurately estimates house prices based on a set of input features like area, number of bedrooms, location, and condition.\n",
    "\n",
    "# Key Components of the Notebook:\n",
    "\n",
    "# 1 Data Loading and Preprocessing:\n",
    "> The dataset is loaded, and necessary preprocessing steps are applied to handle missing values, normalize features, and encode categorical variables.\n",
    "> Exploratory Data Analysis (EDA) is conducted to understand the distribution of the data, correlations between features, and outliers that might affect model performance.\n",
    "\n",
    "# 2 Feature Engineering:\n",
    "> New features are created based on the existing dataset, such as price per square foot or age of the property.\n",
    "> Feature selection techniques are applied to choose the most relevant variables for prediction.\n",
    "\n",
    "# 3 Modeling:\n",
    "> Several machine learning models are implemented, including:\n",
    "> Linear Regression: As a baseline model to understand linear relationships between features and price.\n",
    "> Random Forest: A more complex model that captures non-linear relationships and feature interactions.\n",
    "> Gradient Boosting: A powerful ensemble method that iteratively improves the model by focusing on the errors of previous models.\n",
    "> The models are evaluated using metrics like Root Mean Squared Error (RMSE) and Mean Absolute Error (MAE).\n",
    "\n",
    "# 4 Model Evaluation:\n",
    "> Cross-validation is performed to ensure that the model generalizes well to unseen data.\n",
    "> Feature importance analysis is conducted to determine which features contribute most to the prediction of house prices.\n",
    "\n",
    "5 Hyperparameter Tuning:\n",
    "> Hyperparameters for models like Random Forest and Gradient Boosting are tuned using techniques like GridSearchCV to improve performance.\n",
    "\n",
    "# 6 Final Predictions and Conclusion:\n",
    "> The best-performing model is selected based on evaluation metrics.\n",
    "> Predictions are made on the test dataset, and the results are analyzed to determine the model’s success in predicting house prices.\n",
    "\n",
    "# Key Findings:\n",
    "> Features such as the location of the property, the number of bedrooms, and the overall condition have a significant impact on house prices.\n",
    "> Advanced models like Gradient Boosting provided better accuracy in prediction compared to simpler models like Linear Regression.\n",
    "\n",
    "# Future Improvements:\n",
    "> Incorporating more diverse features, such as neighborhood amenities or proximity to public transportation, could further improve model performance.\n",
    "> Additional data cleaning and outlier removal could enhance the robustness of the model."
   ]
  },
  {
   "cell_type": "code",
   "execution_count": null,
   "id": "56c7a308-dea0-4646-9998-c5c268270f61",
   "metadata": {},
   "outputs": [],
   "source": []
  },
  {
   "cell_type": "code",
   "execution_count": 11,
   "id": "28f4189c-e3ee-4a90-9fae-a8738532a4c3",
   "metadata": {
    "tags": []
   },
   "outputs": [],
   "source": [
    "import pandas as pd \n",
    "import numpy as np \n",
    "import seaborn as sns\n",
    "import matplotlib.pyplot as plt"
   ]
  },
  {
   "cell_type": "code",
   "execution_count": null,
   "id": "5456a5af-03b8-43fd-956d-567e2d96ace1",
   "metadata": {},
   "outputs": [],
   "source": []
  },
  {
   "cell_type": "code",
   "execution_count": 13,
   "id": "4a2e5f87-f08f-48dd-86df-49b9fa06b062",
   "metadata": {
    "tags": []
   },
   "outputs": [
    {
     "data": {
      "text/html": [
       "<div>\n",
       "<style scoped>\n",
       "    .dataframe tbody tr th:only-of-type {\n",
       "        vertical-align: middle;\n",
       "    }\n",
       "\n",
       "    .dataframe tbody tr th {\n",
       "        vertical-align: top;\n",
       "    }\n",
       "\n",
       "    .dataframe thead th {\n",
       "        text-align: right;\n",
       "    }\n",
       "</style>\n",
       "<table border=\"1\" class=\"dataframe\">\n",
       "  <thead>\n",
       "    <tr style=\"text-align: right;\">\n",
       "      <th></th>\n",
       "      <th>Id</th>\n",
       "      <th>Area</th>\n",
       "      <th>Bedrooms</th>\n",
       "      <th>Bathrooms</th>\n",
       "      <th>Floors</th>\n",
       "      <th>YearBuilt</th>\n",
       "      <th>Location</th>\n",
       "      <th>Condition</th>\n",
       "      <th>Garage</th>\n",
       "      <th>Price</th>\n",
       "    </tr>\n",
       "  </thead>\n",
       "  <tbody>\n",
       "    <tr>\n",
       "      <th>0</th>\n",
       "      <td>1</td>\n",
       "      <td>1360</td>\n",
       "      <td>5</td>\n",
       "      <td>4</td>\n",
       "      <td>3</td>\n",
       "      <td>1970</td>\n",
       "      <td>Downtown</td>\n",
       "      <td>Excellent</td>\n",
       "      <td>No</td>\n",
       "      <td>149919</td>\n",
       "    </tr>\n",
       "    <tr>\n",
       "      <th>1</th>\n",
       "      <td>2</td>\n",
       "      <td>4272</td>\n",
       "      <td>5</td>\n",
       "      <td>4</td>\n",
       "      <td>3</td>\n",
       "      <td>1958</td>\n",
       "      <td>Downtown</td>\n",
       "      <td>Excellent</td>\n",
       "      <td>No</td>\n",
       "      <td>424998</td>\n",
       "    </tr>\n",
       "    <tr>\n",
       "      <th>2</th>\n",
       "      <td>3</td>\n",
       "      <td>3592</td>\n",
       "      <td>2</td>\n",
       "      <td>2</td>\n",
       "      <td>3</td>\n",
       "      <td>1938</td>\n",
       "      <td>Downtown</td>\n",
       "      <td>Good</td>\n",
       "      <td>No</td>\n",
       "      <td>266746</td>\n",
       "    </tr>\n",
       "    <tr>\n",
       "      <th>3</th>\n",
       "      <td>4</td>\n",
       "      <td>966</td>\n",
       "      <td>4</td>\n",
       "      <td>2</td>\n",
       "      <td>2</td>\n",
       "      <td>1902</td>\n",
       "      <td>Suburban</td>\n",
       "      <td>Fair</td>\n",
       "      <td>Yes</td>\n",
       "      <td>244020</td>\n",
       "    </tr>\n",
       "    <tr>\n",
       "      <th>4</th>\n",
       "      <td>5</td>\n",
       "      <td>4926</td>\n",
       "      <td>1</td>\n",
       "      <td>4</td>\n",
       "      <td>2</td>\n",
       "      <td>1975</td>\n",
       "      <td>Downtown</td>\n",
       "      <td>Fair</td>\n",
       "      <td>Yes</td>\n",
       "      <td>636056</td>\n",
       "    </tr>\n",
       "    <tr>\n",
       "      <th>...</th>\n",
       "      <td>...</td>\n",
       "      <td>...</td>\n",
       "      <td>...</td>\n",
       "      <td>...</td>\n",
       "      <td>...</td>\n",
       "      <td>...</td>\n",
       "      <td>...</td>\n",
       "      <td>...</td>\n",
       "      <td>...</td>\n",
       "      <td>...</td>\n",
       "    </tr>\n",
       "    <tr>\n",
       "      <th>1995</th>\n",
       "      <td>1996</td>\n",
       "      <td>4994</td>\n",
       "      <td>5</td>\n",
       "      <td>4</td>\n",
       "      <td>3</td>\n",
       "      <td>1923</td>\n",
       "      <td>Suburban</td>\n",
       "      <td>Poor</td>\n",
       "      <td>No</td>\n",
       "      <td>295620</td>\n",
       "    </tr>\n",
       "    <tr>\n",
       "      <th>1996</th>\n",
       "      <td>1997</td>\n",
       "      <td>3046</td>\n",
       "      <td>5</td>\n",
       "      <td>2</td>\n",
       "      <td>1</td>\n",
       "      <td>2019</td>\n",
       "      <td>Suburban</td>\n",
       "      <td>Poor</td>\n",
       "      <td>Yes</td>\n",
       "      <td>580929</td>\n",
       "    </tr>\n",
       "    <tr>\n",
       "      <th>1997</th>\n",
       "      <td>1998</td>\n",
       "      <td>1062</td>\n",
       "      <td>5</td>\n",
       "      <td>1</td>\n",
       "      <td>2</td>\n",
       "      <td>1903</td>\n",
       "      <td>Rural</td>\n",
       "      <td>Poor</td>\n",
       "      <td>No</td>\n",
       "      <td>476925</td>\n",
       "    </tr>\n",
       "    <tr>\n",
       "      <th>1998</th>\n",
       "      <td>1999</td>\n",
       "      <td>4062</td>\n",
       "      <td>3</td>\n",
       "      <td>1</td>\n",
       "      <td>2</td>\n",
       "      <td>1936</td>\n",
       "      <td>Urban</td>\n",
       "      <td>Excellent</td>\n",
       "      <td>Yes</td>\n",
       "      <td>161119</td>\n",
       "    </tr>\n",
       "    <tr>\n",
       "      <th>1999</th>\n",
       "      <td>2000</td>\n",
       "      <td>2989</td>\n",
       "      <td>5</td>\n",
       "      <td>1</td>\n",
       "      <td>3</td>\n",
       "      <td>1903</td>\n",
       "      <td>Suburban</td>\n",
       "      <td>Fair</td>\n",
       "      <td>No</td>\n",
       "      <td>482525</td>\n",
       "    </tr>\n",
       "  </tbody>\n",
       "</table>\n",
       "<p>2000 rows × 10 columns</p>\n",
       "</div>"
      ],
      "text/plain": [
       "        Id  Area  Bedrooms  Bathrooms  Floors  YearBuilt  Location  Condition  \\\n",
       "0        1  1360         5          4       3       1970  Downtown  Excellent   \n",
       "1        2  4272         5          4       3       1958  Downtown  Excellent   \n",
       "2        3  3592         2          2       3       1938  Downtown       Good   \n",
       "3        4   966         4          2       2       1902  Suburban       Fair   \n",
       "4        5  4926         1          4       2       1975  Downtown       Fair   \n",
       "...    ...   ...       ...        ...     ...        ...       ...        ...   \n",
       "1995  1996  4994         5          4       3       1923  Suburban       Poor   \n",
       "1996  1997  3046         5          2       1       2019  Suburban       Poor   \n",
       "1997  1998  1062         5          1       2       1903     Rural       Poor   \n",
       "1998  1999  4062         3          1       2       1936     Urban  Excellent   \n",
       "1999  2000  2989         5          1       3       1903  Suburban       Fair   \n",
       "\n",
       "     Garage   Price  \n",
       "0        No  149919  \n",
       "1        No  424998  \n",
       "2        No  266746  \n",
       "3       Yes  244020  \n",
       "4       Yes  636056  \n",
       "...     ...     ...  \n",
       "1995     No  295620  \n",
       "1996    Yes  580929  \n",
       "1997     No  476925  \n",
       "1998    Yes  161119  \n",
       "1999     No  482525  \n",
       "\n",
       "[2000 rows x 10 columns]"
      ]
     },
     "execution_count": 13,
     "metadata": {},
     "output_type": "execute_result"
    }
   ],
   "source": [
    "df = pd.read_csv(\"House Price Prediction Dataset.csv\")\n",
    "df"
   ]
  },
  {
   "cell_type": "code",
   "execution_count": 16,
   "id": "b6ad5e33-c9cd-423d-ab20-5dcfccd3b72e",
   "metadata": {
    "tags": []
   },
   "outputs": [
    {
     "data": {
      "text/plain": [
       "(2000, 10)"
      ]
     },
     "execution_count": 16,
     "metadata": {},
     "output_type": "execute_result"
    }
   ],
   "source": [
    "df.shape"
   ]
  },
  {
   "cell_type": "code",
   "execution_count": 21,
   "id": "44b50168-8a6e-4ef3-b1c2-df032ffe19b6",
   "metadata": {
    "tags": []
   },
   "outputs": [
    {
     "data": {
      "text/plain": [
       "Id           0\n",
       "Area         0\n",
       "Bedrooms     0\n",
       "Bathrooms    0\n",
       "Floors       0\n",
       "YearBuilt    0\n",
       "Location     0\n",
       "Condition    0\n",
       "Garage       0\n",
       "Price        0\n",
       "dtype: int64"
      ]
     },
     "execution_count": 21,
     "metadata": {},
     "output_type": "execute_result"
    }
   ],
   "source": [
    "df.isnull().sum()"
   ]
  },
  {
   "cell_type": "code",
   "execution_count": 24,
   "id": "9c546129-fd3f-418a-9a91-399f609b0871",
   "metadata": {
    "tags": []
   },
   "outputs": [
    {
     "name": "stdout",
     "output_type": "stream",
     "text": [
      "<class 'pandas.core.frame.DataFrame'>\n",
      "RangeIndex: 2000 entries, 0 to 1999\n",
      "Data columns (total 10 columns):\n",
      " #   Column     Non-Null Count  Dtype \n",
      "---  ------     --------------  ----- \n",
      " 0   Id         2000 non-null   int64 \n",
      " 1   Area       2000 non-null   int64 \n",
      " 2   Bedrooms   2000 non-null   int64 \n",
      " 3   Bathrooms  2000 non-null   int64 \n",
      " 4   Floors     2000 non-null   int64 \n",
      " 5   YearBuilt  2000 non-null   int64 \n",
      " 6   Location   2000 non-null   object\n",
      " 7   Condition  2000 non-null   object\n",
      " 8   Garage     2000 non-null   object\n",
      " 9   Price      2000 non-null   int64 \n",
      "dtypes: int64(7), object(3)\n",
      "memory usage: 156.4+ KB\n"
     ]
    }
   ],
   "source": [
    "df.info()"
   ]
  },
  {
   "cell_type": "markdown",
   "id": "eb589528-e2c2-4de2-831c-95ad7d846bfc",
   "metadata": {},
   "source": [
    "### descriptive statistic"
   ]
  },
  {
   "cell_type": "code",
   "execution_count": 26,
   "id": "53162dd0-a653-4da6-b749-ba27e058b1e0",
   "metadata": {
    "tags": []
   },
   "outputs": [
    {
     "data": {
      "text/html": [
       "<div>\n",
       "<style scoped>\n",
       "    .dataframe tbody tr th:only-of-type {\n",
       "        vertical-align: middle;\n",
       "    }\n",
       "\n",
       "    .dataframe tbody tr th {\n",
       "        vertical-align: top;\n",
       "    }\n",
       "\n",
       "    .dataframe thead th {\n",
       "        text-align: right;\n",
       "    }\n",
       "</style>\n",
       "<table border=\"1\" class=\"dataframe\">\n",
       "  <thead>\n",
       "    <tr style=\"text-align: right;\">\n",
       "      <th></th>\n",
       "      <th>Id</th>\n",
       "      <th>Area</th>\n",
       "      <th>Bedrooms</th>\n",
       "      <th>Bathrooms</th>\n",
       "      <th>Floors</th>\n",
       "      <th>YearBuilt</th>\n",
       "      <th>Price</th>\n",
       "    </tr>\n",
       "  </thead>\n",
       "  <tbody>\n",
       "    <tr>\n",
       "      <th>count</th>\n",
       "      <td>2000.000000</td>\n",
       "      <td>2000.000000</td>\n",
       "      <td>2000.000000</td>\n",
       "      <td>2000.00000</td>\n",
       "      <td>2000.000000</td>\n",
       "      <td>2000.000000</td>\n",
       "      <td>2000.000000</td>\n",
       "    </tr>\n",
       "    <tr>\n",
       "      <th>mean</th>\n",
       "      <td>1000.500000</td>\n",
       "      <td>2786.209500</td>\n",
       "      <td>3.003500</td>\n",
       "      <td>2.55250</td>\n",
       "      <td>1.993500</td>\n",
       "      <td>1961.446000</td>\n",
       "      <td>537676.855000</td>\n",
       "    </tr>\n",
       "    <tr>\n",
       "      <th>std</th>\n",
       "      <td>577.494589</td>\n",
       "      <td>1295.146799</td>\n",
       "      <td>1.424606</td>\n",
       "      <td>1.10899</td>\n",
       "      <td>0.809188</td>\n",
       "      <td>35.926695</td>\n",
       "      <td>276428.845719</td>\n",
       "    </tr>\n",
       "    <tr>\n",
       "      <th>min</th>\n",
       "      <td>1.000000</td>\n",
       "      <td>501.000000</td>\n",
       "      <td>1.000000</td>\n",
       "      <td>1.00000</td>\n",
       "      <td>1.000000</td>\n",
       "      <td>1900.000000</td>\n",
       "      <td>50005.000000</td>\n",
       "    </tr>\n",
       "    <tr>\n",
       "      <th>25%</th>\n",
       "      <td>500.750000</td>\n",
       "      <td>1653.000000</td>\n",
       "      <td>2.000000</td>\n",
       "      <td>2.00000</td>\n",
       "      <td>1.000000</td>\n",
       "      <td>1930.000000</td>\n",
       "      <td>300098.000000</td>\n",
       "    </tr>\n",
       "    <tr>\n",
       "      <th>50%</th>\n",
       "      <td>1000.500000</td>\n",
       "      <td>2833.000000</td>\n",
       "      <td>3.000000</td>\n",
       "      <td>3.00000</td>\n",
       "      <td>2.000000</td>\n",
       "      <td>1961.000000</td>\n",
       "      <td>539254.000000</td>\n",
       "    </tr>\n",
       "    <tr>\n",
       "      <th>75%</th>\n",
       "      <td>1500.250000</td>\n",
       "      <td>3887.500000</td>\n",
       "      <td>4.000000</td>\n",
       "      <td>4.00000</td>\n",
       "      <td>3.000000</td>\n",
       "      <td>1993.000000</td>\n",
       "      <td>780086.000000</td>\n",
       "    </tr>\n",
       "    <tr>\n",
       "      <th>max</th>\n",
       "      <td>2000.000000</td>\n",
       "      <td>4999.000000</td>\n",
       "      <td>5.000000</td>\n",
       "      <td>4.00000</td>\n",
       "      <td>3.000000</td>\n",
       "      <td>2023.000000</td>\n",
       "      <td>999656.000000</td>\n",
       "    </tr>\n",
       "  </tbody>\n",
       "</table>\n",
       "</div>"
      ],
      "text/plain": [
       "                Id         Area     Bedrooms   Bathrooms       Floors  \\\n",
       "count  2000.000000  2000.000000  2000.000000  2000.00000  2000.000000   \n",
       "mean   1000.500000  2786.209500     3.003500     2.55250     1.993500   \n",
       "std     577.494589  1295.146799     1.424606     1.10899     0.809188   \n",
       "min       1.000000   501.000000     1.000000     1.00000     1.000000   \n",
       "25%     500.750000  1653.000000     2.000000     2.00000     1.000000   \n",
       "50%    1000.500000  2833.000000     3.000000     3.00000     2.000000   \n",
       "75%    1500.250000  3887.500000     4.000000     4.00000     3.000000   \n",
       "max    2000.000000  4999.000000     5.000000     4.00000     3.000000   \n",
       "\n",
       "         YearBuilt          Price  \n",
       "count  2000.000000    2000.000000  \n",
       "mean   1961.446000  537676.855000  \n",
       "std      35.926695  276428.845719  \n",
       "min    1900.000000   50005.000000  \n",
       "25%    1930.000000  300098.000000  \n",
       "50%    1961.000000  539254.000000  \n",
       "75%    1993.000000  780086.000000  \n",
       "max    2023.000000  999656.000000  "
      ]
     },
     "execution_count": 26,
     "metadata": {},
     "output_type": "execute_result"
    }
   ],
   "source": [
    "df.describe()"
   ]
  },
  {
   "cell_type": "markdown",
   "id": "0c1f06d5-01ff-405c-805f-070481cb8ab2",
   "metadata": {},
   "source": [
    "### Location Distribuition"
   ]
  },
  {
   "cell_type": "code",
   "execution_count": 31,
   "id": "b441d8e3-bb32-42d0-85ce-ea8e4d957e8e",
   "metadata": {
    "tags": []
   },
   "outputs": [
    {
     "data": {
      "text/plain": [
       "Location\n",
       "Downtown    558\n",
       "Urban       485\n",
       "Suburban    483\n",
       "Rural       474\n",
       "Name: count, dtype: int64"
      ]
     },
     "execution_count": 31,
     "metadata": {},
     "output_type": "execute_result"
    }
   ],
   "source": [
    "df[\"Location\"].value_counts()"
   ]
  },
  {
   "cell_type": "code",
   "execution_count": 44,
   "id": "03ccf497-f241-4f83-9ffc-56c14e667342",
   "metadata": {
    "tags": []
   },
   "outputs": [
    {
     "name": "stderr",
     "output_type": "stream",
     "text": [
      "/var/folders/mp/_1mc66sj15dcx84w85zjp_fr0000gn/T/ipykernel_49272/2381483595.py:3: FutureWarning: \n",
      "\n",
      "Passing `palette` without assigning `hue` is deprecated and will be removed in v0.14.0. Assign the `x` variable to `hue` and set `legend=False` for the same effect.\n",
      "\n",
      "  sns.countplot(x=\"Location\", data=df, palette='viridis')\n"
     ]
    },
    {
     "data": {
      "image/png": "[encoded data removed]",
      "text/plain": [
       "<Figure size 1000x600 with 1 Axes>"
      ]
     },
     "metadata": {},
     "output_type": "display_data"
    }
   ],
   "source": [
    "# Criar o gráfico de contagem com cores personalizadas\n",
    "plt.figure(figsize=(10, 6))\n",
    "sns.countplot(x=\"Location\", data=df, palette='viridis')\n",
    "\n",
    "# Título e ajustes\n",
    "plt.title(\"Location Count\", fontsize=16)\n",
    "plt.xticks(rotation=45, ha='right')  # Rotação das labels no eixo X\n",
    "\n",
    "# Salvar o gráfico\n",
    "plt.tight_layout()\n",
    "plt.savefig(\"location_count_plot.png\", dpi=300)\n",
    "\n",
    "# Exibir o gráfico\n",
    "plt.show()"
   ]
  },
  {
   "cell_type": "markdown",
   "id": "48055c82-c46f-47a3-b63f-5f5b561aee92",
   "metadata": {},
   "source": [
    "### Condition Distribuition"
   ]
  },
  {
   "cell_type": "code",
   "execution_count": 47,
   "id": "4dc61a62-a6a0-4520-bf82-8163bb038b9e",
   "metadata": {
    "tags": []
   },
   "outputs": [
    {
     "data": {
      "text/plain": [
       "Condition\n",
       "Fair         521\n",
       "Excellent    511\n",
       "Poor         507\n",
       "Good         461\n",
       "Name: count, dtype: int64"
      ]
     },
     "execution_count": 47,
     "metadata": {},
     "output_type": "execute_result"
    }
   ],
   "source": [
    "df[\"Condition\"].value_counts()"
   ]
  },
  {
   "cell_type": "code",
   "execution_count": 52,
   "id": "54dd2c70-8d71-4eab-af3a-83bdab1309f2",
   "metadata": {
    "tags": []
   },
   "outputs": [
    {
     "name": "stderr",
     "output_type": "stream",
     "text": [
      "/var/folders/mp/_1mc66sj15dcx84w85zjp_fr0000gn/T/ipykernel_49272/2268668241.py:2: FutureWarning: \n",
      "\n",
      "Passing `palette` without assigning `hue` is deprecated and will be removed in v0.14.0. Assign the `x` variable to `hue` and set `legend=False` for the same effect.\n",
      "\n",
      "  sns.countplot(x=\"Condition\", data=df, palette='viridis')\n"
     ]
    },
    {
     "data": {
      "image/png": "[encoded data removed]",
      "text/plain": [
       "<Figure size 1000x600 with 1 Axes>"
      ]
     },
     "metadata": {},
     "output_type": "display_data"
    }
   ],
   "source": [
    "plt.figure(figsize=(10, 6))\n",
    "sns.countplot(x=\"Condition\", data=df, palette='viridis')\n",
    "plt.title(\"Condition Count\", fontsize=16)\n",
    "plt.xticks(rotation=45, ha='right')  # Rotação das labels no eixo X\n",
    "plt.tight_layout()\n",
    "plt.savefig(\"condition_count_plot.png\", dpi=300)\n",
    "plt.show()"
   ]
  },
  {
   "cell_type": "markdown",
   "id": "5b37b376-255a-4a85-bb45-70fc1304ed81",
   "metadata": {},
   "source": [
    "### Garage Distribuition"
   ]
  },
  {
   "cell_type": "code",
   "execution_count": 57,
   "id": "25cf1a7b-59b3-467d-88fb-959335ccdfa7",
   "metadata": {
    "tags": []
   },
   "outputs": [
    {
     "data": {
      "text/plain": [
       "Garage\n",
       "No     1038\n",
       "Yes     962\n",
       "Name: count, dtype: int64"
      ]
     },
     "execution_count": 57,
     "metadata": {},
     "output_type": "execute_result"
    }
   ],
   "source": [
    "df[\"Garage\"].value_counts()"
   ]
  },
  {
   "cell_type": "code",
   "execution_count": 60,
   "id": "347ccaf1-8106-4b02-86f7-849a13d3f1fd",
   "metadata": {
    "tags": []
   },
   "outputs": [
    {
     "name": "stderr",
     "output_type": "stream",
     "text": [
      "/var/folders/mp/_1mc66sj15dcx84w85zjp_fr0000gn/T/ipykernel_49272/358627849.py:2: FutureWarning: \n",
      "\n",
      "Passing `palette` without assigning `hue` is deprecated and will be removed in v0.14.0. Assign the `x` variable to `hue` and set `legend=False` for the same effect.\n",
      "\n",
      "  sns.countplot(x=\"Garage\", data=df, palette='viridis')\n"
     ]
    },
    {
     "data": {
      "image/png": "[encoded data removed]",
      "text/plain": [
       "<Figure size 1000x600 with 1 Axes>"
      ]
     },
     "metadata": {},
     "output_type": "display_data"
    }
   ],
   "source": [
    "plt.figure(figsize=(10, 6))\n",
    "sns.countplot(x=\"Garage\", data=df, palette='viridis')\n",
    "plt.title(\"Garage Count\", fontsize=16)\n",
    "plt.xticks(rotation=45, ha='right')  # Rotação das labels no eixo X\n",
    "plt.tight_layout()\n",
    "plt.savefig(\"garage_count_plot.png\", dpi=300)\n",
    "plt.show()"
   ]
  },
  {
   "cell_type": "markdown",
   "id": "84bdc22d-c916-46db-b803-6268e2101d9b",
   "metadata": {},
   "source": [
    "### Bedrooms Distribuition"
   ]
  },
  {
   "cell_type": "code",
   "execution_count": 66,
   "id": "68270733-ddc5-4a75-be59-c6a83b42da38",
   "metadata": {
    "tags": []
   },
   "outputs": [
    {
     "data": {
      "text/plain": [
       "Bedrooms\n",
       "1    418\n",
       "3    406\n",
       "4    405\n",
       "5    403\n",
       "2    368\n",
       "Name: count, dtype: int64"
      ]
     },
     "execution_count": 66,
     "metadata": {},
     "output_type": "execute_result"
    }
   ],
   "source": [
    "df[\"Bedrooms\"].value_counts()"
   ]
  },
  {
   "cell_type": "code",
   "execution_count": 64,
   "id": "285b9c86-9c9f-4894-9010-b02ef3a35b24",
   "metadata": {
    "tags": []
   },
   "outputs": [
    {
     "name": "stderr",
     "output_type": "stream",
     "text": [
      "/var/folders/mp/_1mc66sj15dcx84w85zjp_fr0000gn/T/ipykernel_49272/2640199299.py:2: FutureWarning: \n",
      "\n",
      "Passing `palette` without assigning `hue` is deprecated and will be removed in v0.14.0. Assign the `x` variable to `hue` and set `legend=False` for the same effect.\n",
      "\n",
      "  sns.countplot(x=\"Bedrooms\", data=df, palette='viridis')\n"
     ]
    },
    {
     "data": {
      "image/png": "[encoded data removed]",
      "text/plain": [
       "<Figure size 1000x600 with 1 Axes>"
      ]
     },
     "metadata": {},
     "output_type": "display_data"
    }
   ],
   "source": [
    "plt.figure(figsize=(10, 6))\n",
    "sns.countplot(x=\"Bedrooms\", data=df, palette='viridis')\n",
    "plt.title(\"Bedrooms Count\", fontsize=16)\n",
    "plt.xticks(rotation=45, ha='right')  # Rotação das labels no eixo X\n",
    "plt.tight_layout()\n",
    "plt.savefig(\"bedrooms_count_plot.png\", dpi=300)\n",
    "plt.show()"
   ]
  },
  {
   "cell_type": "markdown",
   "id": "a3b8f911-c59b-4c84-9f8c-8985b485e58c",
   "metadata": {},
   "source": [
    "### Bathrooms Distribuition"
   ]
  },
  {
   "cell_type": "code",
   "execution_count": 70,
   "id": "048ff125-164a-4c62-8096-5418a5234735",
   "metadata": {
    "tags": []
   },
   "outputs": [
    {
     "data": {
      "text/plain": [
       "Bathrooms\n",
       "3    524\n",
       "4    521\n",
       "2    494\n",
       "1    461\n",
       "Name: count, dtype: int64"
      ]
     },
     "execution_count": 70,
     "metadata": {},
     "output_type": "execute_result"
    }
   ],
   "source": [
    "df[\"Bathrooms\"].value_counts()"
   ]
  },
  {
   "cell_type": "code",
   "execution_count": 73,
   "id": "50ca4450-0828-4a93-a7b4-51d583d6a690",
   "metadata": {
    "tags": []
   },
   "outputs": [
    {
     "name": "stderr",
     "output_type": "stream",
     "text": [
      "/var/folders/mp/_1mc66sj15dcx84w85zjp_fr0000gn/T/ipykernel_49272/4037152835.py:2: FutureWarning: \n",
      "\n",
      "Passing `palette` without assigning `hue` is deprecated and will be removed in v0.14.0. Assign the `x` variable to `hue` and set `legend=False` for the same effect.\n",
      "\n",
      "  sns.countplot(x=\"Bathrooms\", data=df, palette='viridis')\n"
     ]
    },
    {
     "data": {
      "image/png": "[encoded data removed]",
      "text/plain": [
       "<Figure size 1000x600 with 1 Axes>"
      ]
     },
     "metadata": {},
     "output_type": "display_data"
    }
   ],
   "source": [
    "plt.figure(figsize=(10, 6))\n",
    "sns.countplot(x=\"Bathrooms\", data=df, palette='viridis')\n",
    "plt.title(\"Bathrooms Count\", fontsize=16)\n",
    "plt.xticks(rotation=45, ha='right')  # Rotação das labels no eixo X\n",
    "plt.tight_layout()\n",
    "plt.savefig(\"bathrooms_count_plot.png\", dpi=300)\n",
    "plt.show()"
   ]
  },
  {
   "cell_type": "code",
   "execution_count": 76,
   "id": "b09e1434-a356-407b-96dc-80b626fa5fe2",
   "metadata": {
    "tags": []
   },
   "outputs": [],
   "source": [
    "df.drop(columns=[\"Id\"],inplace = True,)"
   ]
  },
  {
   "cell_type": "code",
   "execution_count": 79,
   "id": "6b7d84b3-ae0b-49ee-b4b5-ab01ca9d4396",
   "metadata": {
    "tags": []
   },
   "outputs": [
    {
     "data": {
      "text/html": [
       "<div>\n",
       "<style scoped>\n",
       "    .dataframe tbody tr th:only-of-type {\n",
       "        vertical-align: middle;\n",
       "    }\n",
       "\n",
       "    .dataframe tbody tr th {\n",
       "        vertical-align: top;\n",
       "    }\n",
       "\n",
       "    .dataframe thead th {\n",
       "        text-align: right;\n",
       "    }\n",
       "</style>\n",
       "<table border=\"1\" class=\"dataframe\">\n",
       "  <thead>\n",
       "    <tr style=\"text-align: right;\">\n",
       "      <th></th>\n",
       "      <th>Area</th>\n",
       "      <th>Bedrooms</th>\n",
       "      <th>Bathrooms</th>\n",
       "      <th>Floors</th>\n",
       "      <th>YearBuilt</th>\n",
       "      <th>Location</th>\n",
       "      <th>Condition</th>\n",
       "      <th>Garage</th>\n",
       "      <th>Price</th>\n",
       "    </tr>\n",
       "  </thead>\n",
       "  <tbody>\n",
       "    <tr>\n",
       "      <th>0</th>\n",
       "      <td>1360</td>\n",
       "      <td>5</td>\n",
       "      <td>4</td>\n",
       "      <td>3</td>\n",
       "      <td>1970</td>\n",
       "      <td>Downtown</td>\n",
       "      <td>Excellent</td>\n",
       "      <td>No</td>\n",
       "      <td>149919</td>\n",
       "    </tr>\n",
       "    <tr>\n",
       "      <th>1</th>\n",
       "      <td>4272</td>\n",
       "      <td>5</td>\n",
       "      <td>4</td>\n",
       "      <td>3</td>\n",
       "      <td>1958</td>\n",
       "      <td>Downtown</td>\n",
       "      <td>Excellent</td>\n",
       "      <td>No</td>\n",
       "      <td>424998</td>\n",
       "    </tr>\n",
       "    <tr>\n",
       "      <th>2</th>\n",
       "      <td>3592</td>\n",
       "      <td>2</td>\n",
       "      <td>2</td>\n",
       "      <td>3</td>\n",
       "      <td>1938</td>\n",
       "      <td>Downtown</td>\n",
       "      <td>Good</td>\n",
       "      <td>No</td>\n",
       "      <td>266746</td>\n",
       "    </tr>\n",
       "    <tr>\n",
       "      <th>3</th>\n",
       "      <td>966</td>\n",
       "      <td>4</td>\n",
       "      <td>2</td>\n",
       "      <td>2</td>\n",
       "      <td>1902</td>\n",
       "      <td>Suburban</td>\n",
       "      <td>Fair</td>\n",
       "      <td>Yes</td>\n",
       "      <td>244020</td>\n",
       "    </tr>\n",
       "    <tr>\n",
       "      <th>4</th>\n",
       "      <td>4926</td>\n",
       "      <td>1</td>\n",
       "      <td>4</td>\n",
       "      <td>2</td>\n",
       "      <td>1975</td>\n",
       "      <td>Downtown</td>\n",
       "      <td>Fair</td>\n",
       "      <td>Yes</td>\n",
       "      <td>636056</td>\n",
       "    </tr>\n",
       "  </tbody>\n",
       "</table>\n",
       "</div>"
      ],
      "text/plain": [
       "   Area  Bedrooms  Bathrooms  Floors  YearBuilt  Location  Condition Garage  \\\n",
       "0  1360         5          4       3       1970  Downtown  Excellent     No   \n",
       "1  4272         5          4       3       1958  Downtown  Excellent     No   \n",
       "2  3592         2          2       3       1938  Downtown       Good     No   \n",
       "3   966         4          2       2       1902  Suburban       Fair    Yes   \n",
       "4  4926         1          4       2       1975  Downtown       Fair    Yes   \n",
       "\n",
       "    Price  \n",
       "0  149919  \n",
       "1  424998  \n",
       "2  266746  \n",
       "3  244020  \n",
       "4  636056  "
      ]
     },
     "execution_count": 79,
     "metadata": {},
     "output_type": "execute_result"
    }
   ],
   "source": [
    "df.head()"
   ]
  },
  {
   "cell_type": "markdown",
   "id": "2d9e555e-f57a-45dd-a16a-edbb89e271a8",
   "metadata": {},
   "source": [
    "# Featuring Engineering"
   ]
  },
  {
   "cell_type": "code",
   "execution_count": 85,
   "id": "fdb2ded6-42a4-49bf-b6af-2edf1c6e5a1b",
   "metadata": {
    "tags": []
   },
   "outputs": [],
   "source": [
    "from sklearn.preprocessing import LabelEncoder\n",
    "from sklearn.preprocessing import StandardScaler\n",
    "from sklearn.model_selection import train_test_split"
   ]
  },
  {
   "cell_type": "markdown",
   "id": "723dc172-47e5-479f-a8ec-73fee532c153",
   "metadata": {},
   "source": [
    "### Transform categorical values into numeric values"
   ]
  },
  {
   "cell_type": "code",
   "execution_count": 98,
   "id": "958be2e1-871d-40de-9088-f4ab97185cb2",
   "metadata": {
    "tags": []
   },
   "outputs": [],
   "source": [
    "Location_en =  LabelEncoder()\n",
    "df[\"Location\"] = Location_en.fit_transform(df[\"Location\"])"
   ]
  },
  {
   "cell_type": "code",
   "execution_count": 91,
   "id": "471cc395-4775-4ba7-aa78-de5f50fc91e7",
   "metadata": {
    "tags": []
   },
   "outputs": [],
   "source": [
    "Condition_en =  LabelEncoder()\n",
    "df[\"Condition\"] = Condition_en.fit_transform(df[\"Condition\"])"
   ]
  },
  {
   "cell_type": "code",
   "execution_count": 94,
   "id": "0d997556-cefc-4feb-a748-1f5b2c5e3eea",
   "metadata": {
    "tags": []
   },
   "outputs": [],
   "source": [
    "Garage_en =  LabelEncoder()\n",
    "df[\"Garage\"] = Condition_en.fit_transform(df[\"Garage\"])"
   ]
  },
  {
   "cell_type": "code",
   "execution_count": 101,
   "id": "805f8e09-6555-4549-ae3f-47ecf690b23d",
   "metadata": {
    "tags": []
   },
   "outputs": [
    {
     "data": {
      "text/html": [
       "<div>\n",
       "<style scoped>\n",
       "    .dataframe tbody tr th:only-of-type {\n",
       "        vertical-align: middle;\n",
       "    }\n",
       "\n",
       "    .dataframe tbody tr th {\n",
       "        vertical-align: top;\n",
       "    }\n",
       "\n",
       "    .dataframe thead th {\n",
       "        text-align: right;\n",
       "    }\n",
       "</style>\n",
       "<table border=\"1\" class=\"dataframe\">\n",
       "  <thead>\n",
       "    <tr style=\"text-align: right;\">\n",
       "      <th></th>\n",
       "      <th>Area</th>\n",
       "      <th>Bedrooms</th>\n",
       "      <th>Bathrooms</th>\n",
       "      <th>Floors</th>\n",
       "      <th>YearBuilt</th>\n",
       "      <th>Location</th>\n",
       "      <th>Condition</th>\n",
       "      <th>Garage</th>\n",
       "      <th>Price</th>\n",
       "    </tr>\n",
       "  </thead>\n",
       "  <tbody>\n",
       "    <tr>\n",
       "      <th>0</th>\n",
       "      <td>1360</td>\n",
       "      <td>5</td>\n",
       "      <td>4</td>\n",
       "      <td>3</td>\n",
       "      <td>1970</td>\n",
       "      <td>0</td>\n",
       "      <td>0</td>\n",
       "      <td>0</td>\n",
       "      <td>149919</td>\n",
       "    </tr>\n",
       "    <tr>\n",
       "      <th>1</th>\n",
       "      <td>4272</td>\n",
       "      <td>5</td>\n",
       "      <td>4</td>\n",
       "      <td>3</td>\n",
       "      <td>1958</td>\n",
       "      <td>0</td>\n",
       "      <td>0</td>\n",
       "      <td>0</td>\n",
       "      <td>424998</td>\n",
       "    </tr>\n",
       "    <tr>\n",
       "      <th>2</th>\n",
       "      <td>3592</td>\n",
       "      <td>2</td>\n",
       "      <td>2</td>\n",
       "      <td>3</td>\n",
       "      <td>1938</td>\n",
       "      <td>0</td>\n",
       "      <td>2</td>\n",
       "      <td>0</td>\n",
       "      <td>266746</td>\n",
       "    </tr>\n",
       "    <tr>\n",
       "      <th>3</th>\n",
       "      <td>966</td>\n",
       "      <td>4</td>\n",
       "      <td>2</td>\n",
       "      <td>2</td>\n",
       "      <td>1902</td>\n",
       "      <td>2</td>\n",
       "      <td>1</td>\n",
       "      <td>1</td>\n",
       "      <td>244020</td>\n",
       "    </tr>\n",
       "    <tr>\n",
       "      <th>4</th>\n",
       "      <td>4926</td>\n",
       "      <td>1</td>\n",
       "      <td>4</td>\n",
       "      <td>2</td>\n",
       "      <td>1975</td>\n",
       "      <td>0</td>\n",
       "      <td>1</td>\n",
       "      <td>1</td>\n",
       "      <td>636056</td>\n",
       "    </tr>\n",
       "  </tbody>\n",
       "</table>\n",
       "</div>"
      ],
      "text/plain": [
       "   Area  Bedrooms  Bathrooms  Floors  YearBuilt  Location  Condition  Garage  \\\n",
       "0  1360         5          4       3       1970         0          0       0   \n",
       "1  4272         5          4       3       1958         0          0       0   \n",
       "2  3592         2          2       3       1938         0          2       0   \n",
       "3   966         4          2       2       1902         2          1       1   \n",
       "4  4926         1          4       2       1975         0          1       1   \n",
       "\n",
       "    Price  \n",
       "0  149919  \n",
       "1  424998  \n",
       "2  266746  \n",
       "3  244020  \n",
       "4  636056  "
      ]
     },
     "execution_count": 101,
     "metadata": {},
     "output_type": "execute_result"
    }
   ],
   "source": [
    "df.head()"
   ]
  },
  {
   "cell_type": "markdown",
   "id": "8480d797-60d1-4077-b5ef-a1014169ec92",
   "metadata": {},
   "source": [
    "### Drop the target variable"
   ]
  },
  {
   "cell_type": "code",
   "execution_count": 108,
   "id": "80ff496e-a32a-48d1-aa13-7d74dd61c23a",
   "metadata": {
    "tags": []
   },
   "outputs": [],
   "source": [
    "x = df.drop(columns=['Price'])\n",
    "y = df[\"Price\"]"
   ]
  },
  {
   "cell_type": "markdown",
   "id": "a3d35132-0c09-4407-b4c2-1e3a38215618",
   "metadata": {},
   "source": [
    "### Normalize the data"
   ]
  },
  {
   "cell_type": "code",
   "execution_count": 110,
   "id": "bae1455c-ea74-4b4a-8e30-6b805a1ca31f",
   "metadata": {
    "tags": []
   },
   "outputs": [],
   "source": [
    "scaler = StandardScaler()\n",
    "x = scaler.fit_transform(df)"
   ]
  },
  {
   "cell_type": "code",
   "execution_count": 113,
   "id": "c813e22f-7289-4ad3-b06f-bed11620abb0",
   "metadata": {
    "tags": []
   },
   "outputs": [],
   "source": [
    "x = pd.DataFrame(x, columns=df.columns)"
   ]
  },
  {
   "cell_type": "code",
   "execution_count": 115,
   "id": "e295a65e-16b8-4805-9df9-53966a341f68",
   "metadata": {
    "tags": []
   },
   "outputs": [
    {
     "data": {
      "text/html": [
       "<div>\n",
       "<style scoped>\n",
       "    .dataframe tbody tr th:only-of-type {\n",
       "        vertical-align: middle;\n",
       "    }\n",
       "\n",
       "    .dataframe tbody tr th {\n",
       "        vertical-align: top;\n",
       "    }\n",
       "\n",
       "    .dataframe thead th {\n",
       "        text-align: right;\n",
       "    }\n",
       "</style>\n",
       "<table border=\"1\" class=\"dataframe\">\n",
       "  <thead>\n",
       "    <tr style=\"text-align: right;\">\n",
       "      <th></th>\n",
       "      <th>Area</th>\n",
       "      <th>Bedrooms</th>\n",
       "      <th>Bathrooms</th>\n",
       "      <th>Floors</th>\n",
       "      <th>YearBuilt</th>\n",
       "      <th>Location</th>\n",
       "      <th>Condition</th>\n",
       "      <th>Garage</th>\n",
       "      <th>Price</th>\n",
       "    </tr>\n",
       "  </thead>\n",
       "  <tbody>\n",
       "    <tr>\n",
       "      <th>0</th>\n",
       "      <td>-1.101471</td>\n",
       "      <td>1.401791</td>\n",
       "      <td>1.305568</td>\n",
       "      <td>1.244151</td>\n",
       "      <td>0.238155</td>\n",
       "      <td>-1.274332</td>\n",
       "      <td>-1.316267</td>\n",
       "      <td>-0.962695</td>\n",
       "      <td>-1.403091</td>\n",
       "    </tr>\n",
       "    <tr>\n",
       "      <th>1</th>\n",
       "      <td>1.147485</td>\n",
       "      <td>1.401791</td>\n",
       "      <td>1.305568</td>\n",
       "      <td>1.244151</td>\n",
       "      <td>-0.095942</td>\n",
       "      <td>-1.274332</td>\n",
       "      <td>-1.316267</td>\n",
       "      <td>-0.962695</td>\n",
       "      <td>-0.407725</td>\n",
       "    </tr>\n",
       "    <tr>\n",
       "      <th>2</th>\n",
       "      <td>0.622317</td>\n",
       "      <td>-0.704581</td>\n",
       "      <td>-0.498326</td>\n",
       "      <td>1.244151</td>\n",
       "      <td>-0.652770</td>\n",
       "      <td>-1.274332</td>\n",
       "      <td>0.460072</td>\n",
       "      <td>-0.962695</td>\n",
       "      <td>-0.980356</td>\n",
       "    </tr>\n",
       "    <tr>\n",
       "      <th>3</th>\n",
       "      <td>-1.405759</td>\n",
       "      <td>0.699667</td>\n",
       "      <td>-0.498326</td>\n",
       "      <td>0.008035</td>\n",
       "      <td>-1.655061</td>\n",
       "      <td>0.486403</td>\n",
       "      <td>-0.428098</td>\n",
       "      <td>1.038750</td>\n",
       "      <td>-1.062589</td>\n",
       "    </tr>\n",
       "    <tr>\n",
       "      <th>4</th>\n",
       "      <td>1.652574</td>\n",
       "      <td>-1.406705</td>\n",
       "      <td>1.305568</td>\n",
       "      <td>0.008035</td>\n",
       "      <td>0.377363</td>\n",
       "      <td>-1.274332</td>\n",
       "      <td>-0.428098</td>\n",
       "      <td>1.038750</td>\n",
       "      <td>0.355982</td>\n",
       "    </tr>\n",
       "  </tbody>\n",
       "</table>\n",
       "</div>"
      ],
      "text/plain": [
       "       Area  Bedrooms  Bathrooms    Floors  YearBuilt  Location  Condition  \\\n",
       "0 -1.101471  1.401791   1.305568  1.244151   0.238155 -1.274332  -1.316267   \n",
       "1  1.147485  1.401791   1.305568  1.244151  -0.095942 -1.274332  -1.316267   \n",
       "2  0.622317 -0.704581  -0.498326  1.244151  -0.652770 -1.274332   0.460072   \n",
       "3 -1.405759  0.699667  -0.498326  0.008035  -1.655061  0.486403  -0.428098   \n",
       "4  1.652574 -1.406705   1.305568  0.008035   0.377363 -1.274332  -0.428098   \n",
       "\n",
       "     Garage     Price  \n",
       "0 -0.962695 -1.403091  \n",
       "1 -0.962695 -0.407725  \n",
       "2 -0.962695 -0.980356  \n",
       "3  1.038750 -1.062589  \n",
       "4  1.038750  0.355982  "
      ]
     },
     "execution_count": 115,
     "metadata": {},
     "output_type": "execute_result"
    }
   ],
   "source": [
    "x.head()"
   ]
  },
  {
   "cell_type": "code",
   "execution_count": null,
   "id": "3745ecf0-0aa2-43a7-a9a4-69327b9f1345",
   "metadata": {},
   "outputs": [],
   "source": []
  },
  {
   "cell_type": "code",
   "execution_count": 123,
   "id": "f6f85631-6c6a-4706-9e42-a6954836ae6e",
   "metadata": {
    "tags": []
   },
   "outputs": [
    {
     "data": {
      "image/png": "[encoded data removed]",
      "text/plain": [
       "<Figure size 1000x800 with 2 Axes>"
      ]
     },
     "metadata": {},
     "output_type": "display_data"
    }
   ],
   "source": [
    "plt.figure(figsize = (10,8))\n",
    "sns.heatmap(data=df.corr(),annot=True)\n",
    "plt.title(\"Correlation Matrix\", fontsize=16)\n",
    "plt.tight_layout()\n",
    "plt.savefig(\"correlation_matrix.png\", dpi=300)\n",
    "plt.show()"
   ]
  },
  {
   "cell_type": "markdown",
   "id": "475e80ca-4263-4642-b63c-f2c5c1cf4011",
   "metadata": {},
   "source": [
    "# Modeling"
   ]
  },
  {
   "cell_type": "markdown",
   "id": "4e7c35ec-2b5f-4bf7-9af8-8e4a4a488662",
   "metadata": {},
   "source": [
    "### data balancing"
   ]
  },
  {
   "cell_type": "code",
   "execution_count": 129,
   "id": "9e457995-0568-4323-9104-1cb78c79405b",
   "metadata": {
    "tags": []
   },
   "outputs": [
    {
     "name": "stdout",
     "output_type": "stream",
     "text": [
      "Shape of x: (2000, 9)\n",
      "Shape of y: (2000,)\n"
     ]
    }
   ],
   "source": [
    "print(f\"Shape of x: {x.shape}\")\n",
    "print(f\"Shape of y: {y.shape}\")"
   ]
  },
  {
   "cell_type": "code",
   "execution_count": 140,
   "id": "b0288919-db4d-44ab-b9b0-7bb1120c7853",
   "metadata": {},
   "outputs": [],
   "source": [
    "from sklearn.linear_model import LinearRegression,Lasso, Ridge,ElasticNet\n",
    "from sklearn.tree import DecisionTreeRegressor\n",
    "from sklearn.svm import SVR\n",
    "from sklearn.neighbors import KNeighborsRegressor\n",
    "from sklearn.ensemble import RandomForestRegressor\n",
    "from sklearn.metrics import mean_squared_error , mean_absolute_error"
   ]
  },
  {
   "cell_type": "markdown",
   "id": "66dd8ce9-c37e-4aa0-aca4-1d2969868f5d",
   "metadata": {},
   "source": [
    "### Train/Split data"
   ]
  },
  {
   "cell_type": "code",
   "execution_count": 144,
   "id": "0e127b3b-da8a-45ac-aa38-bc46d13fc855",
   "metadata": {
    "tags": []
   },
   "outputs": [],
   "source": [
    "x_train,x_test,y_train,y_test = train_test_split(x,y,test_size = 0.2,random_state=0)"
   ]
  },
  {
   "cell_type": "markdown",
   "id": "cd18253c-634f-458f-be54-8377ae534536",
   "metadata": {},
   "source": [
    "### Lasso Regression"
   ]
  },
  {
   "cell_type": "code",
   "execution_count": 150,
   "id": "56c84989-c6b1-4862-a163-0a453d4b802c",
   "metadata": {
    "tags": []
   },
   "outputs": [
    {
     "data": {
      "text/plain": [
       "(99.9999999987408, 99.9999999987434)"
      ]
     },
     "execution_count": 150,
     "metadata": {},
     "output_type": "execute_result"
    }
   ],
   "source": [
    "Lasso_test = Lasso ()\n",
    "Lasso_test.fit(x_train,y_train)\n",
    "Lasso_test.score(x_test,y_test)*100 ,Lasso_test.score(x_train,y_train)*100"
   ]
  },
  {
   "cell_type": "code",
   "execution_count": 153,
   "id": "e401275a-30a6-4d5d-bf23-21a5a5ccebf1",
   "metadata": {
    "tags": []
   },
   "outputs": [
    {
     "data": {
      "text/plain": [
       "(0.8803611263959635, 0.7993447572998411)"
      ]
     },
     "execution_count": 153,
     "metadata": {},
     "output_type": "execute_result"
    }
   ],
   "source": [
    "mean_squared_error(y_test ,Lasso_test.predict(x_test)),mean_absolute_error(y_test ,Lasso_test.predict(x_test))"
   ]
  },
  {
   "cell_type": "code",
   "execution_count": 156,
   "id": "29d61964-2362-4f24-ab23-28306d506cb7",
   "metadata": {
    "tags": []
   },
   "outputs": [
    {
     "data": {
      "text/html": [
       "<div>\n",
       "<style scoped>\n",
       "    .dataframe tbody tr th:only-of-type {\n",
       "        vertical-align: middle;\n",
       "    }\n",
       "\n",
       "    .dataframe tbody tr th {\n",
       "        vertical-align: top;\n",
       "    }\n",
       "\n",
       "    .dataframe thead th {\n",
       "        text-align: right;\n",
       "    }\n",
       "</style>\n",
       "<table border=\"1\" class=\"dataframe\">\n",
       "  <thead>\n",
       "    <tr style=\"text-align: right;\">\n",
       "      <th></th>\n",
       "      <th>Area</th>\n",
       "      <th>Bedrooms</th>\n",
       "      <th>Bathrooms</th>\n",
       "      <th>Floors</th>\n",
       "      <th>YearBuilt</th>\n",
       "      <th>Location</th>\n",
       "      <th>Condition</th>\n",
       "      <th>Garage</th>\n",
       "      <th>Price</th>\n",
       "    </tr>\n",
       "  </thead>\n",
       "  <tbody>\n",
       "    <tr>\n",
       "      <th>405</th>\n",
       "      <td>-1.677611</td>\n",
       "      <td>-0.704581</td>\n",
       "      <td>-1.400273</td>\n",
       "      <td>1.244151</td>\n",
       "      <td>-0.123783</td>\n",
       "      <td>0.486403</td>\n",
       "      <td>0.460072</td>\n",
       "      <td>-0.962695</td>\n",
       "      <td>1.534157</td>\n",
       "    </tr>\n",
       "    <tr>\n",
       "      <th>1190</th>\n",
       "      <td>-0.322986</td>\n",
       "      <td>-1.406705</td>\n",
       "      <td>-1.400273</td>\n",
       "      <td>0.008035</td>\n",
       "      <td>0.405204</td>\n",
       "      <td>-0.393965</td>\n",
       "      <td>0.460072</td>\n",
       "      <td>1.038750</td>\n",
       "      <td>-1.398832</td>\n",
       "    </tr>\n",
       "    <tr>\n",
       "      <th>1132</th>\n",
       "      <td>1.678060</td>\n",
       "      <td>-1.406705</td>\n",
       "      <td>-1.400273</td>\n",
       "      <td>0.008035</td>\n",
       "      <td>-1.265281</td>\n",
       "      <td>0.486403</td>\n",
       "      <td>0.460072</td>\n",
       "      <td>1.038750</td>\n",
       "      <td>-1.664764</td>\n",
       "    </tr>\n",
       "    <tr>\n",
       "      <th>731</th>\n",
       "      <td>0.495659</td>\n",
       "      <td>-0.002457</td>\n",
       "      <td>0.403621</td>\n",
       "      <td>0.008035</td>\n",
       "      <td>-0.541404</td>\n",
       "      <td>-1.274332</td>\n",
       "      <td>0.460072</td>\n",
       "      <td>-0.962695</td>\n",
       "      <td>0.493640</td>\n",
       "    </tr>\n",
       "    <tr>\n",
       "      <th>1754</th>\n",
       "      <td>0.270918</td>\n",
       "      <td>-0.704581</td>\n",
       "      <td>-1.400273</td>\n",
       "      <td>1.244151</td>\n",
       "      <td>0.210314</td>\n",
       "      <td>-0.393965</td>\n",
       "      <td>0.460072</td>\n",
       "      <td>1.038750</td>\n",
       "      <td>-0.420502</td>\n",
       "    </tr>\n",
       "    <tr>\n",
       "      <th>...</th>\n",
       "      <td>...</td>\n",
       "      <td>...</td>\n",
       "      <td>...</td>\n",
       "      <td>...</td>\n",
       "      <td>...</td>\n",
       "      <td>...</td>\n",
       "      <td>...</td>\n",
       "      <td>...</td>\n",
       "      <td>...</td>\n",
       "    </tr>\n",
       "    <tr>\n",
       "      <th>638</th>\n",
       "      <td>-0.308312</td>\n",
       "      <td>0.699667</td>\n",
       "      <td>-0.498326</td>\n",
       "      <td>0.008035</td>\n",
       "      <td>-0.736294</td>\n",
       "      <td>0.486403</td>\n",
       "      <td>1.348241</td>\n",
       "      <td>1.038750</td>\n",
       "      <td>-0.504328</td>\n",
       "    </tr>\n",
       "    <tr>\n",
       "      <th>360</th>\n",
       "      <td>-0.016380</td>\n",
       "      <td>-0.002457</td>\n",
       "      <td>1.305568</td>\n",
       "      <td>-1.228081</td>\n",
       "      <td>0.711460</td>\n",
       "      <td>-0.393965</td>\n",
       "      <td>-1.316267</td>\n",
       "      <td>1.038750</td>\n",
       "      <td>-1.091211</td>\n",
       "    </tr>\n",
       "    <tr>\n",
       "      <th>1810</th>\n",
       "      <td>0.159706</td>\n",
       "      <td>-0.002457</td>\n",
       "      <td>1.305568</td>\n",
       "      <td>1.244151</td>\n",
       "      <td>-0.875501</td>\n",
       "      <td>-1.274332</td>\n",
       "      <td>1.348241</td>\n",
       "      <td>-0.962695</td>\n",
       "      <td>-1.150959</td>\n",
       "    </tr>\n",
       "    <tr>\n",
       "      <th>1743</th>\n",
       "      <td>0.689508</td>\n",
       "      <td>1.401791</td>\n",
       "      <td>-1.400273</td>\n",
       "      <td>1.244151</td>\n",
       "      <td>0.683618</td>\n",
       "      <td>-0.393965</td>\n",
       "      <td>-1.316267</td>\n",
       "      <td>1.038750</td>\n",
       "      <td>-0.671617</td>\n",
       "    </tr>\n",
       "    <tr>\n",
       "      <th>563</th>\n",
       "      <td>-0.071986</td>\n",
       "      <td>0.699667</td>\n",
       "      <td>-0.498326</td>\n",
       "      <td>0.008035</td>\n",
       "      <td>-0.680611</td>\n",
       "      <td>-0.393965</td>\n",
       "      <td>-0.428098</td>\n",
       "      <td>1.038750</td>\n",
       "      <td>-1.318759</td>\n",
       "    </tr>\n",
       "  </tbody>\n",
       "</table>\n",
       "<p>400 rows × 9 columns</p>\n",
       "</div>"
      ],
      "text/plain": [
       "          Area  Bedrooms  Bathrooms    Floors  YearBuilt  Location  Condition  \\\n",
       "405  -1.677611 -0.704581  -1.400273  1.244151  -0.123783  0.486403   0.460072   \n",
       "1190 -0.322986 -1.406705  -1.400273  0.008035   0.405204 -0.393965   0.460072   \n",
       "1132  1.678060 -1.406705  -1.400273  0.008035  -1.265281  0.486403   0.460072   \n",
       "731   0.495659 -0.002457   0.403621  0.008035  -0.541404 -1.274332   0.460072   \n",
       "1754  0.270918 -0.704581  -1.400273  1.244151   0.210314 -0.393965   0.460072   \n",
       "...        ...       ...        ...       ...        ...       ...        ...   \n",
       "638  -0.308312  0.699667  -0.498326  0.008035  -0.736294  0.486403   1.348241   \n",
       "360  -0.016380 -0.002457   1.305568 -1.228081   0.711460 -0.393965  -1.316267   \n",
       "1810  0.159706 -0.002457   1.305568  1.244151  -0.875501 -1.274332   1.348241   \n",
       "1743  0.689508  1.401791  -1.400273  1.244151   0.683618 -0.393965  -1.316267   \n",
       "563  -0.071986  0.699667  -0.498326  0.008035  -0.680611 -0.393965  -0.428098   \n",
       "\n",
       "        Garage     Price  \n",
       "405  -0.962695  1.534157  \n",
       "1190  1.038750 -1.398832  \n",
       "1132  1.038750 -1.664764  \n",
       "731  -0.962695  0.493640  \n",
       "1754  1.038750 -0.420502  \n",
       "...        ...       ...  \n",
       "638   1.038750 -0.504328  \n",
       "360   1.038750 -1.091211  \n",
       "1810 -0.962695 -1.150959  \n",
       "1743  1.038750 -0.671617  \n",
       "563   1.038750 -1.318759  \n",
       "\n",
       "[400 rows x 9 columns]"
      ]
     },
     "execution_count": 156,
     "metadata": {},
     "output_type": "execute_result"
    }
   ],
   "source": [
    "x_test"
   ]
  },
  {
   "cell_type": "markdown",
   "id": "75ab64ec-0224-4ca3-affb-7f1da51f726b",
   "metadata": {},
   "source": [
    "### Predition"
   ]
  },
  {
   "cell_type": "code",
   "execution_count": 160,
   "id": "7c573e96-6c05-4763-a2ff-fd2837c9ac37",
   "metadata": {
    "tags": []
   },
   "outputs": [
    {
     "name": "stderr",
     "output_type": "stream",
     "text": [
      "/Users/denilsondias/anaconda3/lib/python3.11/site-packages/sklearn/base.py:493: UserWarning: X does not have valid feature names, but Lasso was fitted with feature names\n",
      "  warnings.warn(\n"
     ]
    },
    {
     "data": {
      "text/plain": [
       "array([961654.55763656])"
      ]
     },
     "execution_count": 160,
     "metadata": {},
     "output_type": "execute_result"
    }
   ],
   "source": [
    "Lasso_test.predict([[-1.677611,0.704581,-1.400273,1.244151,-0.123783,0.486403,0.460072,-0.962695,1.534157]])"
   ]
  },
  {
   "cell_type": "code",
   "execution_count": 163,
   "id": "7643e88b-61ad-4a1e-a899-38f8978c7241",
   "metadata": {
    "tags": []
   },
   "outputs": [
    {
     "data": {
      "text/plain": [
       "405     961656\n",
       "1190    151096\n",
       "1132     77603\n",
       "731     674099\n",
       "1754    421467\n",
       "Name: Price, dtype: int64"
      ]
     },
     "execution_count": 163,
     "metadata": {},
     "output_type": "execute_result"
    }
   ],
   "source": [
    "y_test.head()"
   ]
  },
  {
   "cell_type": "code",
   "execution_count": null,
   "id": "270a45b1-da27-4896-a309-092cb14a4459",
   "metadata": {},
   "outputs": [],
   "source": []
  },
  {
   "cell_type": "code",
   "execution_count": null,
   "id": "9079824a-2c86-4582-980e-0f67fc7bf503",
   "metadata": {},
   "outputs": [],
   "source": []
  },
  {
   "cell_type": "code",
   "execution_count": null,
   "id": "513b6535-2f7c-40b9-9096-88bedf6f137c",
   "metadata": {},
   "outputs": [],
   "source": []
  },
  {
   "cell_type": "code",
   "execution_count": null,
   "id": "332bf29a-a0de-4e0e-aeb5-372b47dc1259",
   "metadata": {},
   "outputs": [],
   "source": []
  },
  {
   "cell_type": "code",
   "execution_count": null,
   "id": "2613a07b-b590-49c8-a41f-24d7b62b3dc0",
   "metadata": {},
   "outputs": [],
   "source": []
  },
  {
   "cell_type": "code",
   "execution_count": null,
   "id": "6e22c660-3328-45cd-a7fc-8b704680823b",
   "metadata": {},
   "outputs": [],
   "source": []
  },
  {
   "cell_type": "code",
   "execution_count": null,
   "id": "bba5a888-da01-440e-a531-bc6c463869c9",
   "metadata": {},
   "outputs": [],
   "source": []
  },
  {
   "cell_type": "code",
   "execution_count": null,
   "id": "834075e9-0c3e-4e05-bc86-15543774f1a8",
   "metadata": {},
   "outputs": [],
   "source": []
  },
  {
   "cell_type": "code",
   "execution_count": null,
   "id": "651159fe-6721-484c-90ef-cf5e1078270f",
   "metadata": {},
   "outputs": [],
   "source": []
  }
 ],
 "metadata": {
  "kernelspec": {
   "display_name": "Python 3 (ipykernel)",
   "language": "python",
   "name": "python3"
  },
  "language_info": {
   "codemirror_mode": {
    "name": "ipython",
    "version": 3
   },
   "file_extension": ".py",
   "mimetype": "text/x-python",
   "name": "python",
   "nbconvert_exporter": "python",
   "pygments_lexer": "ipython3",
   "version": "3.11.5"
  }
 },
 "nbformat": 4,
 "nbformat_minor": 5
}
